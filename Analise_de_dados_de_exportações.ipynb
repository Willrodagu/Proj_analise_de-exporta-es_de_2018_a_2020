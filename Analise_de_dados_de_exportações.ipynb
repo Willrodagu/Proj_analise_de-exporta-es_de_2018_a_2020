{
  "nbformat": 4,
  "nbformat_minor": 0,
  "metadata": {
    "colab": {
      "name": "Analise de dados de exportações.ipynb",
      "provenance": [],
      "mount_file_id": "https://github.com/Willrodagu/Proj_analise_de_dados/blob/main/Analise_de_dados_de_exporta%C3%A7%C3%B5es.ipynb",
      "authorship_tag": "ABX9TyOB5B521U1QXE7MWRW5PHqe",
      "include_colab_link": true
    },
    "kernelspec": {
      "name": "python3",
      "display_name": "Python 3"
    },
    "language_info": {
      "name": "python"
    }
  },
  "cells": [
    {
      "cell_type": "markdown",
      "metadata": {
        "id": "view-in-github",
        "colab_type": "text"
      },
      "source": [
        "<a href=\"https://colab.research.google.com/github/Willrodagu/Proj_analise_de_dados/blob/main/Analise_de_dados_de_exporta%C3%A7%C3%B5es.ipynb\" target=\"_parent\"><img src=\"https://colab.research.google.com/assets/colab-badge.svg\" alt=\"Open In Colab\"/></a>"
      ]
    },
    {
      "cell_type": "markdown",
      "metadata": {
        "id": "LLmRDmCksMaY"
      },
      "source": [
        "# **Projeto de analise de dados com Python e Pandas**\n",
        "\n",
        "O projeto tem por objetivo apresentar uma analise das exportações brasileiras com base em dados de 2018 até o momento.\n",
        "\n",
        "Fonte dos dados: http://comexstat.mdic.gov.br/pt/municipio"
      ]
    },
    {
      "cell_type": "code",
      "metadata": {
        "id": "-UNNhcnQY56z"
      },
      "source": [
        "import pandas as pd\n",
        "import matplotlib.pyplot as plt\n",
        "plt.style.use(\"seaborn\")"
      ],
      "execution_count": 1,
      "outputs": []
    },
    {
      "cell_type": "code",
      "metadata": {
        "colab": {
          "base_uri": "https://localhost:8080/",
          "height": 204
        },
        "id": "SZcGec02o1DX",
        "outputId": "c9bb1127-3af4-4f40-b12f-83d742e27741"
      },
      "source": [
        "#IMPORTANDO A BASE DE DADOS\n",
        "df = pd.read_csv(\"/content/drive/MyDrive/Datasets/Exportação.csv\", sep=\";\")\n",
        "#VISUALIZANDO A BASE DE DADOS\n",
        "df.head()"
      ],
      "execution_count": 2,
      "outputs": [
        {
          "output_type": "execute_result",
          "data": {
            "text/html": [
              "<div>\n",
              "<style scoped>\n",
              "    .dataframe tbody tr th:only-of-type {\n",
              "        vertical-align: middle;\n",
              "    }\n",
              "\n",
              "    .dataframe tbody tr th {\n",
              "        vertical-align: top;\n",
              "    }\n",
              "\n",
              "    .dataframe thead th {\n",
              "        text-align: right;\n",
              "    }\n",
              "</style>\n",
              "<table border=\"1\" class=\"dataframe\">\n",
              "  <thead>\n",
              "    <tr style=\"text-align: right;\">\n",
              "      <th></th>\n",
              "      <th>Ano</th>\n",
              "      <th>Mês</th>\n",
              "      <th>País</th>\n",
              "      <th>Bloco Econômico</th>\n",
              "      <th>Valor FOB (US$)</th>\n",
              "      <th>Quilograma Líquido</th>\n",
              "    </tr>\n",
              "  </thead>\n",
              "  <tbody>\n",
              "    <tr>\n",
              "      <th>0</th>\n",
              "      <td>2021</td>\n",
              "      <td>9</td>\n",
              "      <td>Afeganistão</td>\n",
              "      <td>Ásia (Exclusive Oriente Médio)</td>\n",
              "      <td>561532</td>\n",
              "      <td>210089</td>\n",
              "    </tr>\n",
              "    <tr>\n",
              "      <th>1</th>\n",
              "      <td>2021</td>\n",
              "      <td>9</td>\n",
              "      <td>África do Sul</td>\n",
              "      <td>África</td>\n",
              "      <td>109393141</td>\n",
              "      <td>88626256</td>\n",
              "    </tr>\n",
              "    <tr>\n",
              "      <th>2</th>\n",
              "      <td>2021</td>\n",
              "      <td>9</td>\n",
              "      <td>Albânia</td>\n",
              "      <td>Europa</td>\n",
              "      <td>5287597</td>\n",
              "      <td>2893673</td>\n",
              "    </tr>\n",
              "    <tr>\n",
              "      <th>3</th>\n",
              "      <td>2021</td>\n",
              "      <td>9</td>\n",
              "      <td>Alemanha</td>\n",
              "      <td>Europa</td>\n",
              "      <td>378245314</td>\n",
              "      <td>476217494</td>\n",
              "    </tr>\n",
              "    <tr>\n",
              "      <th>4</th>\n",
              "      <td>2021</td>\n",
              "      <td>9</td>\n",
              "      <td>Alemanha</td>\n",
              "      <td>União Europeia - UE</td>\n",
              "      <td>378245314</td>\n",
              "      <td>476217494</td>\n",
              "    </tr>\n",
              "  </tbody>\n",
              "</table>\n",
              "</div>"
            ],
            "text/plain": [
              "    Ano  Mês  ... Valor FOB (US$) Quilograma Líquido\n",
              "0  2021    9  ...          561532             210089\n",
              "1  2021    9  ...       109393141           88626256\n",
              "2  2021    9  ...         5287597            2893673\n",
              "3  2021    9  ...       378245314          476217494\n",
              "4  2021    9  ...       378245314          476217494\n",
              "\n",
              "[5 rows x 6 columns]"
            ]
          },
          "metadata": {},
          "execution_count": 2
        }
      ]
    },
    {
      "cell_type": "code",
      "metadata": {
        "id": "AhAeFqWn1I2T",
        "colab": {
          "base_uri": "https://localhost:8080/"
        },
        "outputId": "fc209022-b69f-4a76-9422-702bf63b9399"
      },
      "source": [
        "#VERIFICANDO QUANTAS LINHAS E COLUNAS TEM A BASE DE DADOS\n",
        "df.shape"
      ],
      "execution_count": null,
      "outputs": [
        {
          "output_type": "execute_result",
          "data": {
            "text/plain": [
              "(11602, 6)"
            ]
          },
          "metadata": {},
          "execution_count": 3
        }
      ]
    },
    {
      "cell_type": "code",
      "metadata": {
        "id": "gaeAYIru16iK",
        "colab": {
          "base_uri": "https://localhost:8080/"
        },
        "outputId": "0edfaa1e-1720-4928-e171-49c35f121d54"
      },
      "source": [
        "#VERIFICANDO SE OS VALORES ESTÃO RECOLNHECIDO DA MANEIRA CORRETA\n",
        "df.dtypes"
      ],
      "execution_count": null,
      "outputs": [
        {
          "output_type": "execute_result",
          "data": {
            "text/plain": [
              "Ano                    int64\n",
              "Mês                    int64\n",
              "País                  object\n",
              "Bloco Econômico       object\n",
              "Valor FOB (US$)        int64\n",
              "Quilograma Líquido     int64\n",
              "dtype: object"
            ]
          },
          "metadata": {},
          "execution_count": 21
        }
      ]
    },
    {
      "cell_type": "code",
      "metadata": {
        "colab": {
          "base_uri": "https://localhost:8080/"
        },
        "id": "75b-T6vK7QDK",
        "outputId": "04069fb1-60ed-439c-df7b-17ce623cc2f4"
      },
      "source": [
        "#VERIFICANDO A EXISTENCIA DE VALORES \"NULL\" NAS COLUNAS\n",
        "df.isnull().sum()"
      ],
      "execution_count": null,
      "outputs": [
        {
          "output_type": "execute_result",
          "data": {
            "text/plain": [
              "Ano                   0\n",
              "Mês                   0\n",
              "País                  0\n",
              "Bloco Econômico       0\n",
              "Valor FOB (US$)       0\n",
              "Quilograma Líquido    0\n",
              "dtype: int64"
            ]
          },
          "metadata": {},
          "execution_count": 6
        }
      ]
    },
    {
      "cell_type": "markdown",
      "metadata": {
        "id": "heWTqkJppipG"
      },
      "source": [
        "**Qual é o volume exportação por ano?**\n",
        "\n",
        "\n",
        "\n",
        "\n",
        "\n",
        "\n"
      ]
    },
    {
      "cell_type": "code",
      "metadata": {
        "id": "31RE2wc-2md0",
        "colab": {
          "base_uri": "https://localhost:8080/"
        },
        "outputId": "1fc28c4a-5403-41ac-d5bf-0b98496f2c46"
      },
      "source": [
        "#CALCULANDO A RECEITA TOTAL\n",
        "RT = round(df[\"Valor FOB (US$)\"].sum())\n",
        "print(\"US$ {}\".format(RT))"
      ],
      "execution_count": null,
      "outputs": [
        {
          "output_type": "stream",
          "name": "stdout",
          "text": [
            "US$ 1,131,370,420,447\n"
          ]
        }
      ]
    },
    {
      "cell_type": "code",
      "metadata": {
        "id": "3aMrsX9JKbGa",
        "colab": {
          "base_uri": "https://localhost:8080/",
          "height": 311
        },
        "outputId": "babaa440-4f17-4d80-ba97-dd375bd9fe4e"
      },
      "source": [
        "#VER A RECEITA POR ANO\n",
        "df.groupby(\"Ano\")[\"Valor FOB (US$)\"].sum().sort_values(ascending=True).plot.barh(title=\"Receita anual no periodo 2018/2021\")\n",
        "plt.xlabel(\"Valor FOB (US$)\")\n",
        "plt.ylabel(\"Ano\")"
      ],
      "execution_count": null,
      "outputs": [
        {
          "output_type": "execute_result",
          "data": {
            "text/plain": [
              "Text(0, 0.5, 'Ano')"
            ]
          },
          "metadata": {},
          "execution_count": 34
        },
        {
          "output_type": "display_data",
          "data": {
            "image/png": "[encoded data removed]",
            "text/plain": [
              "<Figure size 432x288 with 1 Axes>"
            ]
          },
          "metadata": {
            "needs_background": "light"
          }
        }
      ]
    },
    {
      "cell_type": "markdown",
      "metadata": {
        "id": "dnxTE3nnqrTi"
      },
      "source": [
        "**Quais os blocos econômico com maior relevancia na exportação do produto Brasileiro?**"
      ]
    },
    {
      "cell_type": "code",
      "metadata": {
        "id": "NOuKSOfpLzl5",
        "colab": {
          "base_uri": "https://localhost:8080/",
          "height": 311
        },
        "outputId": "a3fbfff8-7c66-47f1-db15-2ceddd039b35"
      },
      "source": [
        "#VER A RECEITA POR BLOCO ECONÔMICO\n",
        "#Ranking dos 5 clientes blocos mais influentes\n",
        "Ranking_be = df.groupby(\"Bloco Econômico\")[\"Valor FOB (US$)\"].sum().sort_values(ascending=True).plot.barh(title=\"Ranking dos blocos econômicos mais influêntes\")\n",
        "plt.xlabel(\"Valor FOB (US$)\")\n",
        "plt.ylabel(\"Bloco Econômico\")"
      ],
      "execution_count": null,
      "outputs": [
        {
          "output_type": "execute_result",
          "data": {
            "text/plain": [
              "Text(0, 0.5, 'Bloco Econômico')"
            ]
          },
          "metadata": {},
          "execution_count": 41
        },
        {
          "output_type": "display_data",
          "data": {
            "image/png": "[encoded data removed]",
            "text/plain": [
              "<Figure size 432x288 with 1 Axes>"
            ]
          },
          "metadata": {
            "needs_background": "light"
          }
        }
      ]
    },
    {
      "cell_type": "code",
      "metadata": {
        "id": "pvrwgDshMphS",
        "colab": {
          "base_uri": "https://localhost:8080/",
          "height": 142
        },
        "outputId": "12b788bf-42a0-4243-aae8-e35ac2f0bd75"
      },
      "source": [
        "#Qual é a média das exportações por Bloco Econômico?\n",
        "mebe = df.groupby(\"Bloco Econômico\")[\"Valor FOB (US$)\"].mean().sort_values(ascending=False)\n",
        "#Resetando o index\n",
        "mebe_graf = mebe.reset_index()\n",
        "mebe_graf.head(3)"
      ],
      "execution_count": 48,
      "outputs": [
        {
          "output_type": "execute_result",
          "data": {
            "text/html": [
              "<div>\n",
              "<style scoped>\n",
              "    .dataframe tbody tr th:only-of-type {\n",
              "        vertical-align: middle;\n",
              "    }\n",
              "\n",
              "    .dataframe tbody tr th {\n",
              "        vertical-align: top;\n",
              "    }\n",
              "\n",
              "    .dataframe thead th {\n",
              "        text-align: right;\n",
              "    }\n",
              "</style>\n",
              "<table border=\"1\" class=\"dataframe\">\n",
              "  <thead>\n",
              "    <tr style=\"text-align: right;\">\n",
              "      <th></th>\n",
              "      <th>Bloco Econômico</th>\n",
              "      <th>Valor FOB (US$)</th>\n",
              "    </tr>\n",
              "  </thead>\n",
              "  <tbody>\n",
              "    <tr>\n",
              "      <th>0</th>\n",
              "      <td>América do Norte</td>\n",
              "      <td>US$       991,754,280.34</td>\n",
              "    </tr>\n",
              "    <tr>\n",
              "      <th>1</th>\n",
              "      <td>Mercado Comum do Sul - Mercosul</td>\n",
              "      <td>US$       446,794,957.69</td>\n",
              "    </tr>\n",
              "    <tr>\n",
              "      <th>2</th>\n",
              "      <td>Ásia (Exclusive Oriente Médio)</td>\n",
              "      <td>US$       265,787,437.91</td>\n",
              "    </tr>\n",
              "  </tbody>\n",
              "</table>\n",
              "</div>"
            ],
            "text/plain": [
              "                   Bloco Econômico          Valor FOB (US$)\n",
              "0                 América do Norte US$       991,754,280.34\n",
              "1  Mercado Comum do Sul - Mercosul US$       446,794,957.69\n",
              "2   Ásia (Exclusive Oriente Médio) US$       265,787,437.91"
            ]
          },
          "metadata": {},
          "execution_count": 48
        }
      ]
    },
    {
      "cell_type": "code",
      "metadata": {
        "id": "XICL8szpuYoV"
      },
      "source": [
        "pd.options.display.float_format = 'US$ {:20,.2f}'.format"
      ],
      "execution_count": 25,
      "outputs": []
    },
    {
      "cell_type": "markdown",
      "metadata": {
        "id": "0pHh0Sh-qb-2"
      },
      "source": [
        "**Para quais paises o Brasil mais exportou no periodo?**"
      ]
    },
    {
      "cell_type": "code",
      "metadata": {
        "id": "C5p6pUWYMZGN",
        "colab": {
          "base_uri": "https://localhost:8080/",
          "height": 393
        },
        "outputId": "19f54813-b290-470b-e220-41d755fdc220"
      },
      "source": [
        "#VER A RECEITA POR PAÍS\n",
        "#Rankear os 10 maiores clientes no periodo\n",
        "Ranking = df.groupby(\"País\")[\"Valor FOB (US$)\"].sum().sort_values(ascending=False)\n",
        "Ranking.head(10).sort_values(ascending=True).plot.barh(title=\"Ranking dos 10 maiores clientes 2018/2021\")\n",
        "plt.xlabel(\"Valor FOB (US$)\")\n",
        "plt.ylabel(\"País\")\n"
      ],
      "execution_count": null,
      "outputs": [
        {
          "output_type": "execute_result",
          "data": {
            "text/plain": [
              "Text(0, 0.5, 'País')"
            ]
          },
          "metadata": {},
          "execution_count": 33
        },
        {
          "output_type": "display_data",
          "data": {
            "image/png": "[encoded data removed]",
            "text/plain": [
              "<Figure size 576x396 with 1 Axes>"
            ]
          },
          "metadata": {}
        }
      ]
    },
    {
      "cell_type": "code",
      "metadata": {
        "id": "4fomfzk2NVEO",
        "colab": {
          "base_uri": "https://localhost:8080/",
          "height": 359
        },
        "outputId": "dfadecda-9a3d-4ebe-8a6a-960db2250443"
      },
      "source": [
        "#Qual é a média das exportações por país?\n",
        "mep = df.groupby(\"País\")[\"Valor FOB (US$)\"].mean().sort_values(ascending=False)\n",
        "\n",
        "mep_graf = mep.reset_index()\n",
        "mep_graf.head(10)"
      ],
      "execution_count": 44,
      "outputs": [
        {
          "output_type": "execute_result",
          "data": {
            "text/html": [
              "<div>\n",
              "<style scoped>\n",
              "    .dataframe tbody tr th:only-of-type {\n",
              "        vertical-align: middle;\n",
              "    }\n",
              "\n",
              "    .dataframe tbody tr th {\n",
              "        vertical-align: top;\n",
              "    }\n",
              "\n",
              "    .dataframe thead th {\n",
              "        text-align: right;\n",
              "    }\n",
              "</style>\n",
              "<table border=\"1\" class=\"dataframe\">\n",
              "  <thead>\n",
              "    <tr style=\"text-align: right;\">\n",
              "      <th></th>\n",
              "      <th>País</th>\n",
              "      <th>Valor FOB (US$)</th>\n",
              "    </tr>\n",
              "  </thead>\n",
              "  <tbody>\n",
              "    <tr>\n",
              "      <th>0</th>\n",
              "      <td>China</td>\n",
              "      <td>US$     5,926,519,899.53</td>\n",
              "    </tr>\n",
              "    <tr>\n",
              "      <th>1</th>\n",
              "      <td>Estados Unidos</td>\n",
              "      <td>US$     2,270,239,861.76</td>\n",
              "    </tr>\n",
              "    <tr>\n",
              "      <th>2</th>\n",
              "      <td>Argentina</td>\n",
              "      <td>US$       931,915,417.91</td>\n",
              "    </tr>\n",
              "    <tr>\n",
              "      <th>3</th>\n",
              "      <td>Países Baixos (Holanda)</td>\n",
              "      <td>US$       649,486,004.64</td>\n",
              "    </tr>\n",
              "    <tr>\n",
              "      <th>4</th>\n",
              "      <td>Chile</td>\n",
              "      <td>US$       447,546,894.04</td>\n",
              "    </tr>\n",
              "    <tr>\n",
              "      <th>5</th>\n",
              "      <td>Japão</td>\n",
              "      <td>US$       397,987,295.51</td>\n",
              "    </tr>\n",
              "    <tr>\n",
              "      <th>6</th>\n",
              "      <td>Alemanha</td>\n",
              "      <td>US$       395,522,735.49</td>\n",
              "    </tr>\n",
              "    <tr>\n",
              "      <th>7</th>\n",
              "      <td>Espanha</td>\n",
              "      <td>US$       392,400,549.47</td>\n",
              "    </tr>\n",
              "    <tr>\n",
              "      <th>8</th>\n",
              "      <td>México</td>\n",
              "      <td>US$       384,982,146.29</td>\n",
              "    </tr>\n",
              "    <tr>\n",
              "      <th>9</th>\n",
              "      <td>Coreia do Sul</td>\n",
              "      <td>US$       328,580,378.82</td>\n",
              "    </tr>\n",
              "  </tbody>\n",
              "</table>\n",
              "</div>"
            ],
            "text/plain": [
              "                      País          Valor FOB (US$)\n",
              "0                    China US$     5,926,519,899.53\n",
              "1           Estados Unidos US$     2,270,239,861.76\n",
              "2                Argentina US$       931,915,417.91\n",
              "3  Países Baixos (Holanda) US$       649,486,004.64\n",
              "4                    Chile US$       447,546,894.04\n",
              "5                    Japão US$       397,987,295.51\n",
              "6                 Alemanha US$       395,522,735.49\n",
              "7                  Espanha US$       392,400,549.47\n",
              "8                   México US$       384,982,146.29\n",
              "9            Coreia do Sul US$       328,580,378.82"
            ]
          },
          "metadata": {},
          "execution_count": 44
        }
      ]
    },
    {
      "cell_type": "markdown",
      "metadata": {
        "id": "nW9TPqi5rHJT"
      },
      "source": [
        "**Cliente em potencial: relação bloco economico x pais (principais exportadores)**"
      ]
    }
  ]
}