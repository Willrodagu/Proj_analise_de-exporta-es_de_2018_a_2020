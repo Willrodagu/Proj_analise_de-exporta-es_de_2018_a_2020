{
  "nbformat": 4,
  "nbformat_minor": 0,
  "metadata": {
    "colab": {
      "name": "Analise de dados de exportações.ipynb",
      "provenance": [],
      "mount_file_id": "https://github.com/Willrodagu/Proj_analise_de_dados/blob/main/Analise_de_dados_de_exporta%C3%A7%C3%B5es.ipynb",
      "authorship_tag": "ABX9TyNT6vuAeqtrIt5WJjDk6vhh",
      "include_colab_link": true
    },
    "kernelspec": {
      "name": "python3",
      "display_name": "Python 3"
    },
    "language_info": {
      "name": "python"
    }
  },
  "cells": [
    {
      "cell_type": "markdown",
      "metadata": {
        "id": "view-in-github",
        "colab_type": "text"
      },
      "source": [
        "<a href=\"https://colab.research.google.com/github/Willrodagu/Proj_analise_de_dados/blob/main/Analise_de_dados_de_exporta%C3%A7%C3%B5es.ipynb\" target=\"_parent\"><img src=\"https://colab.research.google.com/assets/colab-badge.svg\" alt=\"Open In Colab\"/></a>"
      ]
    },
    {
      "cell_type": "markdown",
      "metadata": {
        "id": "LLmRDmCksMaY"
      },
      "source": [
        "# **Projeto de analise de dados com Python e Pandas**\n",
        "\n",
        "O projeto tem por objetivo apresentar uma analise das exportações brasileiras com base em dados de 2018 até o momento.\n",
        "\n",
        "Fonte dos dados: http://comexstat.mdic.gov.br/pt/municipio"
      ]
    },
    {
      "cell_type": "code",
      "metadata": {
        "id": "-UNNhcnQY56z"
      },
      "source": [
        "import pandas as pd"
      ],
      "execution_count": 1,
      "outputs": []
    },
    {
      "cell_type": "code",
      "metadata": {
        "colab": {
          "base_uri": "https://localhost:8080/",
          "height": 204
        },
        "id": "SZcGec02o1DX",
        "outputId": "0b478450-820d-452e-e289-da7d12e420bb"
      },
      "source": [
        "#IMPORTANDO A BASE DE DADOS\n",
        "df = pd.read_csv(\"/content/drive/MyDrive/Datasets/Exportação.csv\", sep=\";\")\n",
        "#VISUALIZANDO A BASE DE DADOS\n",
        "df.head()"
      ],
      "execution_count": 2,
      "outputs": [
        {
          "output_type": "execute_result",
          "data": {
            "text/html": [
              "<div>\n",
              "<style scoped>\n",
              "    .dataframe tbody tr th:only-of-type {\n",
              "        vertical-align: middle;\n",
              "    }\n",
              "\n",
              "    .dataframe tbody tr th {\n",
              "        vertical-align: top;\n",
              "    }\n",
              "\n",
              "    .dataframe thead th {\n",
              "        text-align: right;\n",
              "    }\n",
              "</style>\n",
              "<table border=\"1\" class=\"dataframe\">\n",
              "  <thead>\n",
              "    <tr style=\"text-align: right;\">\n",
              "      <th></th>\n",
              "      <th>Ano</th>\n",
              "      <th>Mês</th>\n",
              "      <th>País</th>\n",
              "      <th>Bloco Econômico</th>\n",
              "      <th>Valor FOB (US$)</th>\n",
              "      <th>Quilograma Líquido</th>\n",
              "    </tr>\n",
              "  </thead>\n",
              "  <tbody>\n",
              "    <tr>\n",
              "      <th>0</th>\n",
              "      <td>2021</td>\n",
              "      <td>9</td>\n",
              "      <td>Afeganistão</td>\n",
              "      <td>Ásia (Exclusive Oriente Médio)</td>\n",
              "      <td>561532</td>\n",
              "      <td>210089</td>\n",
              "    </tr>\n",
              "    <tr>\n",
              "      <th>1</th>\n",
              "      <td>2021</td>\n",
              "      <td>9</td>\n",
              "      <td>África do Sul</td>\n",
              "      <td>África</td>\n",
              "      <td>109393141</td>\n",
              "      <td>88626256</td>\n",
              "    </tr>\n",
              "    <tr>\n",
              "      <th>2</th>\n",
              "      <td>2021</td>\n",
              "      <td>9</td>\n",
              "      <td>Albânia</td>\n",
              "      <td>Europa</td>\n",
              "      <td>5287597</td>\n",
              "      <td>2893673</td>\n",
              "    </tr>\n",
              "    <tr>\n",
              "      <th>3</th>\n",
              "      <td>2021</td>\n",
              "      <td>9</td>\n",
              "      <td>Alemanha</td>\n",
              "      <td>Europa</td>\n",
              "      <td>378245314</td>\n",
              "      <td>476217494</td>\n",
              "    </tr>\n",
              "    <tr>\n",
              "      <th>4</th>\n",
              "      <td>2021</td>\n",
              "      <td>9</td>\n",
              "      <td>Alemanha</td>\n",
              "      <td>União Europeia - UE</td>\n",
              "      <td>378245314</td>\n",
              "      <td>476217494</td>\n",
              "    </tr>\n",
              "  </tbody>\n",
              "</table>\n",
              "</div>"
            ],
            "text/plain": [
              "    Ano  Mês  ... Valor FOB (US$) Quilograma Líquido\n",
              "0  2021    9  ...          561532             210089\n",
              "1  2021    9  ...       109393141           88626256\n",
              "2  2021    9  ...         5287597            2893673\n",
              "3  2021    9  ...       378245314          476217494\n",
              "4  2021    9  ...       378245314          476217494\n",
              "\n",
              "[5 rows x 6 columns]"
            ]
          },
          "metadata": {},
          "execution_count": 2
        }
      ]
    },
    {
      "cell_type": "code",
      "metadata": {
        "id": "AhAeFqWn1I2T",
        "colab": {
          "base_uri": "https://localhost:8080/"
        },
        "outputId": "20dedde0-b2a1-4e12-cd98-dcc448ca0bce"
      },
      "source": [
        "#VERIFICANDO QUANTAS LINHAS E COLUNAS TEM A BASE DE DADOS\n",
        "df.shape"
      ],
      "execution_count": 3,
      "outputs": [
        {
          "output_type": "execute_result",
          "data": {
            "text/plain": [
              "(11602, 6)"
            ]
          },
          "metadata": {},
          "execution_count": 3
        }
      ]
    },
    {
      "cell_type": "code",
      "metadata": {
        "id": "gaeAYIru16iK",
        "colab": {
          "base_uri": "https://localhost:8080/"
        },
        "outputId": "33427830-6bce-450a-cc70-83be8a544a18"
      },
      "source": [
        "#VERIFICANDO SE OS VALORES ESTÃO RECOLNHECIDO DA MANEIRA CORRETA\n",
        "df.dtypes"
      ],
      "execution_count": 9,
      "outputs": [
        {
          "output_type": "execute_result",
          "data": {
            "text/plain": [
              "Ano                    int64\n",
              "Mês                    int64\n",
              "País                  object\n",
              "Bloco Econômico       object\n",
              "Valor FOB (US$)        int64\n",
              "Quilograma Líquido     int64\n",
              "dtype: object"
            ]
          },
          "metadata": {},
          "execution_count": 9
        }
      ]
    },
    {
      "cell_type": "code",
      "metadata": {
        "colab": {
          "base_uri": "https://localhost:8080/"
        },
        "id": "75b-T6vK7QDK",
        "outputId": "b52cca71-6c00-49df-988c-d0b015c48b94"
      },
      "source": [
        "#VERIFICANDO A EXISTENCIA DE VALORES \"NULL\" NAS COLUNAS\n",
        "df.isnull().sum()"
      ],
      "execution_count": 8,
      "outputs": [
        {
          "output_type": "execute_result",
          "data": {
            "text/plain": [
              "Ano                   0\n",
              "Mês                   0\n",
              "País                  0\n",
              "Bloco Econômico       0\n",
              "Valor FOB (US$)       0\n",
              "Quilograma Líquido    0\n",
              "dtype: int64"
            ]
          },
          "metadata": {},
          "execution_count": 8
        }
      ]
    },
    {
      "cell_type": "code",
      "metadata": {
        "id": "31RE2wc-2md0",
        "colab": {
          "base_uri": "https://localhost:8080/"
        },
        "outputId": "95eee6d2-2731-40b9-ed3b-c3b780ac5c2d"
      },
      "source": [
        "#CALCULANDO A RECEITA TOTAL\n",
        "round(df[\"Valor FOB (US$)\"].sum(), 2)"
      ],
      "execution_count": 29,
      "outputs": [
        {
          "output_type": "execute_result",
          "data": {
            "text/plain": [
              "1131370420447"
            ]
          },
          "metadata": {},
          "execution_count": 29
        }
      ]
    },
    {
      "cell_type": "code",
      "metadata": {
        "colab": {
          "base_uri": "https://localhost:8080/"
        },
        "id": "32uJFTQ2_dar",
        "outputId": "79ab3d49-54e6-4a77-941f-b9e9de47ddbd"
      },
      "source": [
        "#VER O PERCENTUAL DE EXPORTAÇÕES PARA CONTINENTES\n",
        "print(df[\"Bloco Econômico\"].value_counts())\n",
        "print(df[\"Bloco Econômico\"].value_counts(normalize=True).map(\"{:.1%}\".format))"
      ],
      "execution_count": 22,
      "outputs": [
        {
          "output_type": "stream",
          "name": "stdout",
          "text": [
            "África                                              2383\n",
            "Europa                                              2142\n",
            "América Central e Caribe                            1623\n",
            "Ásia (Exclusive Oriente Médio)                      1458\n",
            "União Europeia - UE                                 1312\n",
            "Oceania                                              666\n",
            "Oriente Médio                                        630\n",
            "América do Sul                                       507\n",
            "Associação de Nações do Sudeste Asiático - ASEAN     431\n",
            "Comunidade Andina das Nações - CAN                   180\n",
            "Mercado Comum do Sul - Mercosul                      135\n",
            "América do Norte                                     135\n",
            "Name: Bloco Econômico, dtype: int64\n",
            "África                                              20.5%\n",
            "Europa                                              18.5%\n",
            "América Central e Caribe                            14.0%\n",
            "Ásia (Exclusive Oriente Médio)                      12.6%\n",
            "União Europeia - UE                                 11.3%\n",
            "Oceania                                              5.7%\n",
            "Oriente Médio                                        5.4%\n",
            "América do Sul                                       4.4%\n",
            "Associação de Nações do Sudeste Asiático - ASEAN     3.7%\n",
            "Comunidade Andina das Nações - CAN                   1.6%\n",
            "Mercado Comum do Sul - Mercosul                      1.2%\n",
            "América do Norte                                     1.2%\n",
            "Name: Bloco Econômico, dtype: object\n"
          ]
        }
      ]
    },
    {
      "cell_type": "code",
      "metadata": {
        "id": "-SExCO-yFeAQ",
        "outputId": "efc3dd8b-03fa-43c8-a499-c2d0eaa3814f",
        "colab": {
          "base_uri": "https://localhost:8080/"
        }
      },
      "source": [
        "#VER O PERCENTUALDE EXPORTAÇÕES POR PAÍS (TODOS)\n",
        "print(df[\"País\"].value_counts())\n",
        "print(df[\"País\"].value_counts(normalize=True).map(\"{:.1%}\".format))"
      ],
      "execution_count": 26,
      "outputs": [
        {
          "output_type": "stream",
          "name": "stdout",
          "text": [
            "Dinamarca                   90\n",
            "Peru                        90\n",
            "França                      90\n",
            "Equador                     90\n",
            "Estônia                     90\n",
            "                            ..\n",
            "Saara Ocidental              4\n",
            "Vaticano                     3\n",
            "Marianas do Norte, Ilhas     3\n",
            "Toquelau                     2\n",
            "Cocos (Keeling), Ilhas       2\n",
            "Name: País, Length: 245, dtype: int64\n",
            "Dinamarca                   0.8%\n",
            "Peru                        0.8%\n",
            "França                      0.8%\n",
            "Equador                     0.8%\n",
            "Estônia                     0.8%\n",
            "                            ... \n",
            "Saara Ocidental             0.0%\n",
            "Vaticano                    0.0%\n",
            "Marianas do Norte, Ilhas    0.0%\n",
            "Toquelau                    0.0%\n",
            "Cocos (Keeling), Ilhas      0.0%\n",
            "Name: País, Length: 245, dtype: object\n"
          ]
        }
      ]
    },
    {
      "cell_type": "code",
      "metadata": {
        "id": "3aMrsX9JKbGa",
        "outputId": "077785c9-1d06-41e0-9517-5f26530256ca",
        "colab": {
          "base_uri": "https://localhost:8080/"
        }
      },
      "source": [
        "#VER A RECEITA POR ANO\n",
        "df.groupby(\"Ano\")[\"Valor FOB (US$)\"].sum()"
      ],
      "execution_count": 31,
      "outputs": [
        {
          "output_type": "execute_result",
          "data": {
            "text/plain": [
              "Ano\n",
              "2018    302851588437\n",
              "2019    285237181844\n",
              "2020    268973457401\n",
              "2021    274308192765\n",
              "Name: Valor FOB (US$), dtype: int64"
            ]
          },
          "metadata": {},
          "execution_count": 31
        }
      ]
    },
    {
      "cell_type": "code",
      "metadata": {
        "id": "NOuKSOfpLzl5",
        "outputId": "981e1412-2091-47d0-8a8b-812b4e46ea16",
        "colab": {
          "base_uri": "https://localhost:8080/"
        }
      },
      "source": [
        "#VER A RECEITA POR BLOCO ECONÔMICO\n",
        "df.groupby(\"Bloco Econômico\")[\"Valor FOB (US$)\"].sum()"
      ],
      "execution_count": 33,
      "outputs": [
        {
          "output_type": "execute_result",
          "data": {
            "text/plain": [
              "Bloco Econômico\n",
              "América Central e Caribe                             13528053637\n",
              "América do Norte                                    133886827846\n",
              "América do Sul                                      109968510544\n",
              "Associação de Nações do Sudeste Asiático - ASEAN     50806007606\n",
              "Comunidade Andina das Nações - CAN                   26696759491\n",
              "Europa                                              157314849003\n",
              "Mercado Comum do Sul - Mercosul                      60317319288\n",
              "Oceania                                               2985798456\n",
              "Oriente Médio                                        38372044655\n",
              "União Europeia - UE                                 119867669710\n",
              "África                                               30108495739\n",
              "Ásia (Exclusive Oriente Médio)                      387518084472\n",
              "Name: Valor FOB (US$), dtype: int64"
            ]
          },
          "metadata": {},
          "execution_count": 33
        }
      ]
    },
    {
      "cell_type": "code",
      "metadata": {
        "id": "C5p6pUWYMZGN",
        "outputId": "1d43ea4c-b71b-422f-df3d-20b41947d31a",
        "colab": {
          "base_uri": "https://localhost:8080/"
        }
      },
      "source": [
        "#VER A RECEITA POR PAÍS\n",
        "df.groupby(\"País\")[\"Valor FOB (US$)\"].sum()"
      ],
      "execution_count": 34,
      "outputs": [
        {
          "output_type": "execute_result",
          "data": {
            "text/plain": [
              "País\n",
              "Afeganistão        102330711\n",
              "Aland, Ilhas           97906\n",
              "Albânia            210697578\n",
              "Alemanha         35597046194\n",
              "Andorra              2772213\n",
              "                    ...     \n",
              "Zimbábue            23477348\n",
              "Zâmbia              18652975\n",
              "África do Sul     4352721574\n",
              "Áustria           1104384582\n",
              "Índia            12816710365\n",
              "Name: Valor FOB (US$), Length: 245, dtype: int64"
            ]
          },
          "metadata": {},
          "execution_count": 34
        }
      ]
    },
    {
      "cell_type": "markdown",
      "metadata": {
        "id": "heWTqkJppipG"
      },
      "source": [
        "Qual é o volume exportação por ano?\n",
        "\n",
        "\n",
        "\n",
        "\n",
        "\n",
        "\n"
      ]
    },
    {
      "cell_type": "markdown",
      "metadata": {
        "id": "dnxTE3nnqrTi"
      },
      "source": [
        "Quais os bocos econômico com maior relevancia na exportação do produto Brasileiro?"
      ]
    },
    {
      "cell_type": "markdown",
      "metadata": {
        "id": "0pHh0Sh-qb-2"
      },
      "source": [
        "Quais paises mais exportaram do Brasil no periodo?"
      ]
    },
    {
      "cell_type": "markdown",
      "metadata": {
        "id": "nW9TPqi5rHJT"
      },
      "source": [
        "Cliente em potencial: relação bloco economico x pais (principais exportadores)"
      ]
    }
  ]
}