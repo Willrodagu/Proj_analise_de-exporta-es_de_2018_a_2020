{
  "nbformat": 4,
  "nbformat_minor": 0,
  "metadata": {
    "colab": {
      "name": "Analise de dados de exportações.ipynb",
      "provenance": [],
      "mount_file_id": "https://github.com/Willrodagu/Proj_analise_de_dados/blob/main/Analise_de_dados_de_exporta%C3%A7%C3%B5es.ipynb",
      "authorship_tag": "ABX9TyO7BKXl6E/2KK1le4UERdlz",
      "include_colab_link": true
    },
    "kernelspec": {
      "name": "python3",
      "display_name": "Python 3"
    },
    "language_info": {
      "name": "python"
    }
  },
  "cells": [
    {
      "cell_type": "markdown",
      "metadata": {
        "id": "view-in-github",
        "colab_type": "text"
      },
      "source": [
        "<a href=\"https://colab.research.google.com/github/Willrodagu/Proj_analise_de_dados/blob/main/Analise_de_dados_de_exporta%C3%A7%C3%B5es.ipynb\" target=\"_parent\"><img src=\"https://colab.research.google.com/assets/colab-badge.svg\" alt=\"Open In Colab\"/></a>"
      ]
    },
    {
      "cell_type": "markdown",
      "metadata": {
        "id": "LLmRDmCksMaY"
      },
      "source": [
        "# **Projeto de analise de dados com Python e Pandas**\n",
        "\n",
        "O projeto tem por objetivo apresentar uma analise das exportações brasileiras com base em dados de 2018 até o momento.\n",
        "\n",
        "Fonte dos dados: http://comexstat.mdic.gov.br/pt/municipio"
      ]
    },
    {
      "cell_type": "code",
      "metadata": {
        "id": "-UNNhcnQY56z"
      },
      "source": [
        "import pandas as pd\n",
        "import matplotlib.pyplot as plt\n",
        "plt.style.use(\"seaborn\")"
      ],
      "execution_count": 1,
      "outputs": []
    },
    {
      "cell_type": "code",
      "metadata": {
        "colab": {
          "base_uri": "https://localhost:8080/",
          "height": 204
        },
        "id": "SZcGec02o1DX",
        "outputId": "9dca4d2e-945a-4454-ca88-dd76db5d16d8"
      },
      "source": [
        "#IMPORTANDO A BASE DE DADOS\n",
        "df = pd.read_csv(\"/content/drive/MyDrive/Datasets/Exportação.csv\", sep=\";\")\n",
        "#VISUALIZANDO A BASE DE DADOS\n",
        "df.head()"
      ],
      "execution_count": 3,
      "outputs": [
        {
          "output_type": "execute_result",
          "data": {
            "text/html": [
              "<div>\n",
              "<style scoped>\n",
              "    .dataframe tbody tr th:only-of-type {\n",
              "        vertical-align: middle;\n",
              "    }\n",
              "\n",
              "    .dataframe tbody tr th {\n",
              "        vertical-align: top;\n",
              "    }\n",
              "\n",
              "    .dataframe thead th {\n",
              "        text-align: right;\n",
              "    }\n",
              "</style>\n",
              "<table border=\"1\" class=\"dataframe\">\n",
              "  <thead>\n",
              "    <tr style=\"text-align: right;\">\n",
              "      <th></th>\n",
              "      <th>Ano</th>\n",
              "      <th>Mês</th>\n",
              "      <th>País</th>\n",
              "      <th>Bloco Econômico</th>\n",
              "      <th>Valor FOB (US$)</th>\n",
              "      <th>Quilograma Líquido</th>\n",
              "    </tr>\n",
              "  </thead>\n",
              "  <tbody>\n",
              "    <tr>\n",
              "      <th>0</th>\n",
              "      <td>2021</td>\n",
              "      <td>9</td>\n",
              "      <td>Afeganistão</td>\n",
              "      <td>Ásia (Exclusive Oriente Médio)</td>\n",
              "      <td>561532</td>\n",
              "      <td>210089</td>\n",
              "    </tr>\n",
              "    <tr>\n",
              "      <th>1</th>\n",
              "      <td>2021</td>\n",
              "      <td>9</td>\n",
              "      <td>África do Sul</td>\n",
              "      <td>África</td>\n",
              "      <td>109393141</td>\n",
              "      <td>88626256</td>\n",
              "    </tr>\n",
              "    <tr>\n",
              "      <th>2</th>\n",
              "      <td>2021</td>\n",
              "      <td>9</td>\n",
              "      <td>Albânia</td>\n",
              "      <td>Europa</td>\n",
              "      <td>5287597</td>\n",
              "      <td>2893673</td>\n",
              "    </tr>\n",
              "    <tr>\n",
              "      <th>3</th>\n",
              "      <td>2021</td>\n",
              "      <td>9</td>\n",
              "      <td>Alemanha</td>\n",
              "      <td>Europa</td>\n",
              "      <td>378245314</td>\n",
              "      <td>476217494</td>\n",
              "    </tr>\n",
              "    <tr>\n",
              "      <th>4</th>\n",
              "      <td>2021</td>\n",
              "      <td>9</td>\n",
              "      <td>Alemanha</td>\n",
              "      <td>União Europeia - UE</td>\n",
              "      <td>378245314</td>\n",
              "      <td>476217494</td>\n",
              "    </tr>\n",
              "  </tbody>\n",
              "</table>\n",
              "</div>"
            ],
            "text/plain": [
              "    Ano  Mês  ... Valor FOB (US$) Quilograma Líquido\n",
              "0  2021    9  ...          561532             210089\n",
              "1  2021    9  ...       109393141           88626256\n",
              "2  2021    9  ...         5287597            2893673\n",
              "3  2021    9  ...       378245314          476217494\n",
              "4  2021    9  ...       378245314          476217494\n",
              "\n",
              "[5 rows x 6 columns]"
            ]
          },
          "metadata": {},
          "execution_count": 3
        }
      ]
    },
    {
      "cell_type": "code",
      "metadata": {
        "id": "AhAeFqWn1I2T",
        "colab": {
          "base_uri": "https://localhost:8080/"
        },
        "outputId": "c6fdf84e-093c-454d-bc85-bd3b0c29a2cd"
      },
      "source": [
        "#VERIFICANDO QUANTAS LINHAS E COLUNAS TEM A BASE DE DADOS\n",
        "df.shape"
      ],
      "execution_count": null,
      "outputs": [
        {
          "output_type": "execute_result",
          "data": {
            "text/plain": [
              "(11602, 6)"
            ]
          },
          "metadata": {},
          "execution_count": 67
        }
      ]
    },
    {
      "cell_type": "code",
      "metadata": {
        "id": "gaeAYIru16iK",
        "colab": {
          "base_uri": "https://localhost:8080/"
        },
        "outputId": "a16dd06b-8821-426f-9d19-4d1b2f42fc8e"
      },
      "source": [
        "#VERIFICANDO SE OS VALORES ESTÃO RECOLNHECIDO DA MANEIRA CORRETA\n",
        "df.dtypes"
      ],
      "execution_count": null,
      "outputs": [
        {
          "output_type": "execute_result",
          "data": {
            "text/plain": [
              "Ano                    int64\n",
              "Mês                    int64\n",
              "País                  object\n",
              "Bloco Econômico       object\n",
              "Valor FOB (US$)        int64\n",
              "Quilograma Líquido     int64\n",
              "dtype: object"
            ]
          },
          "metadata": {},
          "execution_count": 68
        }
      ]
    },
    {
      "cell_type": "code",
      "metadata": {
        "colab": {
          "base_uri": "https://localhost:8080/"
        },
        "id": "75b-T6vK7QDK",
        "outputId": "901abc1b-1c0a-4bb6-e3f2-23bac0036b25"
      },
      "source": [
        "#VERIFICANDO A EXISTENCIA DE VALORES \"NULL\" NAS COLUNAS\n",
        "df.isnull().sum()"
      ],
      "execution_count": null,
      "outputs": [
        {
          "output_type": "execute_result",
          "data": {
            "text/plain": [
              "Ano                   0\n",
              "Mês                   0\n",
              "País                  0\n",
              "Bloco Econômico       0\n",
              "Valor FOB (US$)       0\n",
              "Quilograma Líquido    0\n",
              "dtype: int64"
            ]
          },
          "metadata": {},
          "execution_count": 69
        }
      ]
    },
    {
      "cell_type": "markdown",
      "metadata": {
        "id": "heWTqkJppipG"
      },
      "source": [
        "**Qual é o volume exportação por ano?**\n",
        "\n",
        "\n",
        "\n",
        "\n",
        "\n",
        "\n"
      ]
    },
    {
      "cell_type": "code",
      "metadata": {
        "id": "XICL8szpuYoV"
      },
      "source": [
        "pd.options.display.float_format = 'US$ {:20,.2f}'.format"
      ],
      "execution_count": 19,
      "outputs": []
    },
    {
      "cell_type": "code",
      "metadata": {
        "id": "31RE2wc-2md0",
        "colab": {
          "base_uri": "https://localhost:8080/"
        },
        "outputId": "3ddfe24d-cc45-448a-bd60-f6d2a9c6ebc4"
      },
      "source": [
        "#CALCULANDO A RECEITA TOTAL\n",
        "RT = round(df[\"Valor FOB (US$)\"].sum())\n",
        "print(\"US$ {}\".format(RT))"
      ],
      "execution_count": null,
      "outputs": [
        {
          "output_type": "stream",
          "name": "stdout",
          "text": [
            "US$ 1131370420447\n"
          ]
        }
      ]
    },
    {
      "cell_type": "code",
      "metadata": {
        "id": "3aMrsX9JKbGa",
        "colab": {
          "base_uri": "https://localhost:8080/",
          "height": 393
        },
        "outputId": "2a05ad98-8f0a-455b-db64-5bdbbea7d120"
      },
      "source": [
        "#VER A RECEITA POR ANO\n",
        "df.groupby(\"Ano\")[\"Valor FOB (US$)\"].sum().sort_values(ascending=True).plot.barh(title=\"Receita anual no periodo 2018/2021\")\n",
        "plt.xlabel(\"Valor FOB (US$)\")\n",
        "plt.ylabel(\"Ano\")"
      ],
      "execution_count": null,
      "outputs": [
        {
          "output_type": "execute_result",
          "data": {
            "text/plain": [
              "Text(0, 0.5, 'Ano')"
            ]
          },
          "metadata": {},
          "execution_count": 71
        },
        {
          "output_type": "display_data",
          "data": {
            "image/png": "[encoded data removed]",
            "text/plain": [
              "<Figure size 576x396 with 1 Axes>"
            ]
          },
          "metadata": {}
        }
      ]
    },
    {
      "cell_type": "markdown",
      "metadata": {
        "id": "dnxTE3nnqrTi"
      },
      "source": [
        "**Quais os blocos econômico com maior relevancia na exportação do produto Brasileiro?**"
      ]
    },
    {
      "cell_type": "code",
      "metadata": {
        "id": "NOuKSOfpLzl5",
        "colab": {
          "base_uri": "https://localhost:8080/",
          "height": 311
        },
        "outputId": "8135a468-9b38-4c2b-f947-d929ba3df179"
      },
      "source": [
        "#VER A RECEITA POR BLOCO ECONÔMICO\n",
        "#Ranking dos 5 clientes blocos mais influentes\n",
        "\n",
        "Ranking_be = df.groupby(\"Bloco Econômico\")[\"Valor FOB (US$)\"].sum().sort_values(ascending=True).plot.barh(title=\"Ranking Das Importações Por Blocos Econômicos\")\n",
        "plt.xlabel(\"Valor FOB (US$)\")\n",
        "plt.ylabel(\"Bloco Econômico\")\n"
      ],
      "execution_count": 4,
      "outputs": [
        {
          "output_type": "execute_result",
          "data": {
            "text/plain": [
              "Text(0, 0.5, 'Bloco Econômico')"
            ]
          },
          "metadata": {},
          "execution_count": 4
        },
        {
          "output_type": "display_data",
          "data": {
            "image/png": "[encoded data removed]",
            "text/plain": [
              "<Figure size 432x288 with 1 Axes>"
            ]
          },
          "metadata": {
            "needs_background": "light"
          }
        }
      ]
    },
    {
      "cell_type": "code",
      "metadata": {
        "id": "PdY-gii7oP9i"
      },
      "source": [
        "import plotly.express as px"
      ],
      "execution_count": 34,
      "outputs": []
    },
    {
      "cell_type": "code",
      "metadata": {
        "id": "pvrwgDshMphS",
        "colab": {
          "base_uri": "https://localhost:8080/",
          "height": 142
        },
        "outputId": "56be47dd-1052-4b8f-ad5e-f773cd26804c"
      },
      "source": [
        "#Qual é a média das exportações por Bloco Econômico?\n",
        "mebe = df.groupby(\"Bloco Econômico\")[\"Valor FOB (US$)\"].mean().sort_values(ascending=False)\n",
        "#Resetando o index\n",
        "mebe_reset = mebe.reset_index()\n",
        "mebe_reset.head(3)"
      ],
      "execution_count": 41,
      "outputs": [
        {
          "output_type": "execute_result",
          "data": {
            "text/html": [
              "<div>\n",
              "<style scoped>\n",
              "    .dataframe tbody tr th:only-of-type {\n",
              "        vertical-align: middle;\n",
              "    }\n",
              "\n",
              "    .dataframe tbody tr th {\n",
              "        vertical-align: top;\n",
              "    }\n",
              "\n",
              "    .dataframe thead th {\n",
              "        text-align: right;\n",
              "    }\n",
              "</style>\n",
              "<table border=\"1\" class=\"dataframe\">\n",
              "  <thead>\n",
              "    <tr style=\"text-align: right;\">\n",
              "      <th></th>\n",
              "      <th>Bloco Econômico</th>\n",
              "      <th>Valor FOB (US$)</th>\n",
              "    </tr>\n",
              "  </thead>\n",
              "  <tbody>\n",
              "    <tr>\n",
              "      <th>0</th>\n",
              "      <td>América do Norte</td>\n",
              "      <td>US$       991,754,280.34</td>\n",
              "    </tr>\n",
              "    <tr>\n",
              "      <th>1</th>\n",
              "      <td>Mercado Comum do Sul - Mercosul</td>\n",
              "      <td>US$       446,794,957.69</td>\n",
              "    </tr>\n",
              "    <tr>\n",
              "      <th>2</th>\n",
              "      <td>Ásia (Exclusive Oriente Médio)</td>\n",
              "      <td>US$       265,787,437.91</td>\n",
              "    </tr>\n",
              "  </tbody>\n",
              "</table>\n",
              "</div>"
            ],
            "text/plain": [
              "                   Bloco Econômico          Valor FOB (US$)\n",
              "0                 América do Norte US$       991,754,280.34\n",
              "1  Mercado Comum do Sul - Mercosul US$       446,794,957.69\n",
              "2   Ásia (Exclusive Oriente Médio) US$       265,787,437.91"
            ]
          },
          "metadata": {},
          "execution_count": 41
        }
      ]
    },
    {
      "cell_type": "markdown",
      "metadata": {
        "id": "0pHh0Sh-qb-2"
      },
      "source": [
        "**Para quais paises o Brasil mais exportou no periodo?**"
      ]
    },
    {
      "cell_type": "code",
      "metadata": {
        "id": "C5p6pUWYMZGN",
        "colab": {
          "base_uri": "https://localhost:8080/",
          "height": 311
        },
        "outputId": "be407fcc-4afe-4c19-9e2f-c1e42409e0c5"
      },
      "source": [
        "#VER A RECEITA POR PAÍS\n",
        "#Rankear os 10 maiores clientes no periodo\n",
        "\n",
        "Ranking = df.groupby(\"País\")[\"Valor FOB (US$)\"].sum().sort_values(ascending=False)\n",
        "Ranking.head(10).sort_values(ascending=True).plot.barh(title=\"Ranking Das Exportações Por País\")\n",
        "plt.xlabel(\"Valor FOB (US$)\")\n",
        "plt.ylabel(\"País\")\n",
        "\n"
      ],
      "execution_count": 13,
      "outputs": [
        {
          "output_type": "execute_result",
          "data": {
            "text/plain": [
              "Text(0, 0.5, 'País')"
            ]
          },
          "metadata": {},
          "execution_count": 13
        },
        {
          "output_type": "display_data",
          "data": {
            "image/png": "[encoded data removed]",
            "text/plain": [
              "<Figure size 432x288 with 1 Axes>"
            ]
          },
          "metadata": {
            "needs_background": "light"
          }
        }
      ]
    },
    {
      "cell_type": "code",
      "metadata": {
        "id": "4fomfzk2NVEO",
        "colab": {
          "base_uri": "https://localhost:8080/",
          "height": 375
        },
        "outputId": "64147927-0cfe-403c-db8d-bf17bc39e763"
      },
      "source": [
        "#Qual é a média das exportações por país?\n",
        "mep = df.groupby(\"País\")[\"Valor FOB (US$)\"].mean().sort_values(ascending=False).reset_index()\n",
        "mep_reset = mep.head(10)\n",
        "mep_graf = mep_reset.groupby(\"País\")[\"Valor FOB (US$)\"].mean().sort_values(ascending=True).plot.barh(title=\"Média Das Importações Por País\")\n"
      ],
      "execution_count": null,
      "outputs": [
        {
          "output_type": "display_data",
          "data": {
            "image/png": "[encoded data removed]",
            "text/plain": [
              "<Figure size 576x396 with 1 Axes>"
            ]
          },
          "metadata": {}
        }
      ]
    },
    {
      "cell_type": "markdown",
      "metadata": {
        "id": "nW9TPqi5rHJT"
      },
      "source": [
        "**Cliente em potencial: relação bloco economico x pais (principais exportadores)**"
      ]
    }
  ]
}