{
  "nbformat": 4,
  "nbformat_minor": 0,
  "metadata": {
    "colab": {
      "name": "Analise de dados de exportações.ipynb",
      "provenance": [],
      "mount_file_id": "https://github.com/Willrodagu/Proj_analise_de_dados/blob/main/Analise_de_dados_de_exporta%C3%A7%C3%B5es.ipynb",
      "authorship_tag": "ABX9TyN0s4iS1yEpImdimOM+6PCS",
      "include_colab_link": true
    },
    "kernelspec": {
      "name": "python3",
      "display_name": "Python 3"
    },
    "language_info": {
      "name": "python"
    }
  },
  "cells": [
    {
      "cell_type": "markdown",
      "metadata": {
        "id": "view-in-github",
        "colab_type": "text"
      },
      "source": [
        "<a href=\"https://colab.research.google.com/github/Willrodagu/Proj_analise_de_dados/blob/main/Analise_de_dados_de_exporta%C3%A7%C3%B5es.ipynb\" target=\"_parent\"><img src=\"https://colab.research.google.com/assets/colab-badge.svg\" alt=\"Open In Colab\"/></a>"
      ]
    },
    {
      "cell_type": "markdown",
      "metadata": {
        "id": "LLmRDmCksMaY"
      },
      "source": [
        "# **Projeto de analise de dados com Python e Pandas**\n",
        "\n",
        "O projeto tem por objetivo apresentar uma analise das exportações brasileiras com base em dados de 2018 até o momento.\n",
        "\n",
        "Fonte dos dados: http://comexstat.mdic.gov.br/pt/municipio"
      ]
    },
    {
      "cell_type": "code",
      "metadata": {
        "id": "-UNNhcnQY56z"
      },
      "source": [
        "import pandas as pd\n",
        "import matplotlib.pyplot as plt\n",
        "plt.style.use(\"seaborn\")"
      ],
      "execution_count": 1,
      "outputs": []
    },
    {
      "cell_type": "code",
      "metadata": {
        "colab": {
          "base_uri": "https://localhost:8080/",
          "height": 204
        },
        "id": "SZcGec02o1DX",
        "outputId": "341ec298-a199-4351-95ab-825d41d63de2"
      },
      "source": [
        "#IMPORTANDO A BASE DE DADOS\n",
        "df = pd.read_csv(\"/content/drive/MyDrive/Datasets/Exportação.csv\", sep=\";\")\n",
        "#VISUALIZANDO A BASE DE DADOS\n",
        "df.head()"
      ],
      "execution_count": 2,
      "outputs": [
        {
          "output_type": "execute_result",
          "data": {
            "text/html": [
              "<div>\n",
              "<style scoped>\n",
              "    .dataframe tbody tr th:only-of-type {\n",
              "        vertical-align: middle;\n",
              "    }\n",
              "\n",
              "    .dataframe tbody tr th {\n",
              "        vertical-align: top;\n",
              "    }\n",
              "\n",
              "    .dataframe thead th {\n",
              "        text-align: right;\n",
              "    }\n",
              "</style>\n",
              "<table border=\"1\" class=\"dataframe\">\n",
              "  <thead>\n",
              "    <tr style=\"text-align: right;\">\n",
              "      <th></th>\n",
              "      <th>Ano</th>\n",
              "      <th>Mês</th>\n",
              "      <th>País</th>\n",
              "      <th>Bloco Econômico</th>\n",
              "      <th>Valor FOB (US$)</th>\n",
              "      <th>Quilograma Líquido</th>\n",
              "    </tr>\n",
              "  </thead>\n",
              "  <tbody>\n",
              "    <tr>\n",
              "      <th>0</th>\n",
              "      <td>2021</td>\n",
              "      <td>9</td>\n",
              "      <td>Afeganistão</td>\n",
              "      <td>Ásia (Exclusive Oriente Médio)</td>\n",
              "      <td>561532</td>\n",
              "      <td>210089</td>\n",
              "    </tr>\n",
              "    <tr>\n",
              "      <th>1</th>\n",
              "      <td>2021</td>\n",
              "      <td>9</td>\n",
              "      <td>África do Sul</td>\n",
              "      <td>África</td>\n",
              "      <td>109393141</td>\n",
              "      <td>88626256</td>\n",
              "    </tr>\n",
              "    <tr>\n",
              "      <th>2</th>\n",
              "      <td>2021</td>\n",
              "      <td>9</td>\n",
              "      <td>Albânia</td>\n",
              "      <td>Europa</td>\n",
              "      <td>5287597</td>\n",
              "      <td>2893673</td>\n",
              "    </tr>\n",
              "    <tr>\n",
              "      <th>3</th>\n",
              "      <td>2021</td>\n",
              "      <td>9</td>\n",
              "      <td>Alemanha</td>\n",
              "      <td>Europa</td>\n",
              "      <td>378245314</td>\n",
              "      <td>476217494</td>\n",
              "    </tr>\n",
              "    <tr>\n",
              "      <th>4</th>\n",
              "      <td>2021</td>\n",
              "      <td>9</td>\n",
              "      <td>Alemanha</td>\n",
              "      <td>União Europeia - UE</td>\n",
              "      <td>378245314</td>\n",
              "      <td>476217494</td>\n",
              "    </tr>\n",
              "  </tbody>\n",
              "</table>\n",
              "</div>"
            ],
            "text/plain": [
              "    Ano  Mês  ... Valor FOB (US$) Quilograma Líquido\n",
              "0  2021    9  ...          561532             210089\n",
              "1  2021    9  ...       109393141           88626256\n",
              "2  2021    9  ...         5287597            2893673\n",
              "3  2021    9  ...       378245314          476217494\n",
              "4  2021    9  ...       378245314          476217494\n",
              "\n",
              "[5 rows x 6 columns]"
            ]
          },
          "metadata": {},
          "execution_count": 2
        }
      ]
    },
    {
      "cell_type": "code",
      "metadata": {
        "id": "AhAeFqWn1I2T",
        "colab": {
          "base_uri": "https://localhost:8080/"
        },
        "outputId": "63a08512-ff60-4158-c3a3-2d2893802996"
      },
      "source": [
        "#VERIFICANDO QUANTAS LINHAS E COLUNAS TEM A BASE DE DADOS\n",
        "df.shape"
      ],
      "execution_count": 3,
      "outputs": [
        {
          "output_type": "execute_result",
          "data": {
            "text/plain": [
              "(11602, 6)"
            ]
          },
          "metadata": {},
          "execution_count": 3
        }
      ]
    },
    {
      "cell_type": "code",
      "metadata": {
        "id": "gaeAYIru16iK",
        "colab": {
          "base_uri": "https://localhost:8080/"
        },
        "outputId": "4163e798-d435-45b3-e3af-b6fc0f23a828"
      },
      "source": [
        "#VERIFICANDO SE OS VALORES ESTÃO RECOLNHECIDO DA MANEIRA CORRETA\n",
        "df.dtypes"
      ],
      "execution_count": 4,
      "outputs": [
        {
          "output_type": "execute_result",
          "data": {
            "text/plain": [
              "Ano                    int64\n",
              "Mês                    int64\n",
              "País                  object\n",
              "Bloco Econômico       object\n",
              "Valor FOB (US$)        int64\n",
              "Quilograma Líquido     int64\n",
              "dtype: object"
            ]
          },
          "metadata": {},
          "execution_count": 4
        }
      ]
    },
    {
      "cell_type": "code",
      "metadata": {
        "colab": {
          "base_uri": "https://localhost:8080/"
        },
        "id": "75b-T6vK7QDK",
        "outputId": "4ade114e-afc7-4c35-f192-6c4f3bea23e8"
      },
      "source": [
        "#VERIFICANDO A EXISTENCIA DE VALORES \"NULL\" NAS COLUNAS\n",
        "df.isnull().sum()"
      ],
      "execution_count": 5,
      "outputs": [
        {
          "output_type": "execute_result",
          "data": {
            "text/plain": [
              "Ano                   0\n",
              "Mês                   0\n",
              "País                  0\n",
              "Bloco Econômico       0\n",
              "Valor FOB (US$)       0\n",
              "Quilograma Líquido    0\n",
              "dtype: int64"
            ]
          },
          "metadata": {},
          "execution_count": 5
        }
      ]
    },
    {
      "cell_type": "markdown",
      "metadata": {
        "id": "heWTqkJppipG"
      },
      "source": [
        "**Qual é o volume exportação por ano?**\n",
        "\n",
        "\n",
        "\n",
        "\n",
        "\n",
        "\n"
      ]
    },
    {
      "cell_type": "code",
      "metadata": {
        "id": "XICL8szpuYoV"
      },
      "source": [
        "pd.options.display.float_format = 'US$ {:20,.2f}'.format"
      ],
      "execution_count": 6,
      "outputs": []
    },
    {
      "cell_type": "code",
      "metadata": {
        "id": "31RE2wc-2md0",
        "colab": {
          "base_uri": "https://localhost:8080/"
        },
        "outputId": "e34e7cbf-9287-4a0a-85f9-7e462f6d6fe9"
      },
      "source": [
        "#CALCULANDO A RECEITA TOTAL\n",
        "RT = round(df[\"Valor FOB (US$)\"].sum())\n",
        "print(\"US$ {}\".format(RT))"
      ],
      "execution_count": 7,
      "outputs": [
        {
          "output_type": "stream",
          "name": "stdout",
          "text": [
            "US$ 1131370420447\n"
          ]
        }
      ]
    },
    {
      "cell_type": "code",
      "metadata": {
        "id": "3aMrsX9JKbGa",
        "colab": {
          "base_uri": "https://localhost:8080/",
          "height": 311
        },
        "outputId": "f9187356-ae97-4b23-df11-ac97ff1460c3"
      },
      "source": [
        "#VER A RECEITA POR ANO\n",
        "df.groupby(\"Ano\")[\"Valor FOB (US$)\"].sum().sort_values(ascending=True).plot.barh(title=\"Receita anual no periodo 2018/2021\")\n",
        "plt.xlabel(\"Valor FOB (US$)\")\n",
        "plt.ylabel(\"Ano\")"
      ],
      "execution_count": 8,
      "outputs": [
        {
          "output_type": "execute_result",
          "data": {
            "text/plain": [
              "Text(0, 0.5, 'Ano')"
            ]
          },
          "metadata": {},
          "execution_count": 8
        },
        {
          "output_type": "display_data",
          "data": {
            "image/png": "[encoded data removed]",
            "text/plain": [
              "<Figure size 432x288 with 1 Axes>"
            ]
          },
          "metadata": {
            "needs_background": "light"
          }
        }
      ]
    },
    {
      "cell_type": "markdown",
      "metadata": {
        "id": "dnxTE3nnqrTi"
      },
      "source": [
        "**Para quais blocos economicos o Brasil mais exportou no período?**"
      ]
    },
    {
      "cell_type": "code",
      "metadata": {
        "id": "NOuKSOfpLzl5",
        "colab": {
          "base_uri": "https://localhost:8080/",
          "height": 311
        },
        "outputId": "9e79b560-1b65-4f9b-d8c9-4e5073171bc1"
      },
      "source": [
        "#VER A RECEITA POR BLOCO ECONÔMICO\n",
        "#Ranking dos 5 clientes blocos mais influentes\n",
        "Ranking_be = df.groupby(\"Bloco Econômico\")[\"Valor FOB (US$)\"].sum().sort_values(ascending=True).plot.barh(title=\"Ranking Das Exportações Por Blocos Econômicos\")\n",
        "plt.xlabel(\"Valor FOB (US$)\")\n",
        "plt.ylabel(\"Bloco Econômico\")"
      ],
      "execution_count": 43,
      "outputs": [
        {
          "output_type": "execute_result",
          "data": {
            "text/plain": [
              "Text(0, 0.5, 'Bloco Econômico')"
            ]
          },
          "metadata": {},
          "execution_count": 43
        },
        {
          "output_type": "display_data",
          "data": {
            "image/png": "[encoded data removed]",
            "text/plain": [
              "<Figure size 432x288 with 1 Axes>"
            ]
          },
          "metadata": {
            "needs_background": "light"
          }
        }
      ]
    },
    {
      "cell_type": "code",
      "metadata": {
        "id": "pvrwgDshMphS",
        "colab": {
          "base_uri": "https://localhost:8080/",
          "height": 142
        },
        "outputId": "d187ecf8-e33b-4f1a-ffa2-ed172297f96e"
      },
      "source": [
        "#Qual é a média das exportações por Bloco Econômico?\n",
        "mebe = df.groupby(\"Bloco Econômico\")[\"Valor FOB (US$)\"].mean().sort_values(ascending=False)\n",
        "#Resetando o index\n",
        "mebe_reset = mebe.reset_index()\n",
        "mebe_reset.head(3)"
      ],
      "execution_count": 10,
      "outputs": [
        {
          "output_type": "execute_result",
          "data": {
            "text/html": [
              "<div>\n",
              "<style scoped>\n",
              "    .dataframe tbody tr th:only-of-type {\n",
              "        vertical-align: middle;\n",
              "    }\n",
              "\n",
              "    .dataframe tbody tr th {\n",
              "        vertical-align: top;\n",
              "    }\n",
              "\n",
              "    .dataframe thead th {\n",
              "        text-align: right;\n",
              "    }\n",
              "</style>\n",
              "<table border=\"1\" class=\"dataframe\">\n",
              "  <thead>\n",
              "    <tr style=\"text-align: right;\">\n",
              "      <th></th>\n",
              "      <th>Bloco Econômico</th>\n",
              "      <th>Valor FOB (US$)</th>\n",
              "    </tr>\n",
              "  </thead>\n",
              "  <tbody>\n",
              "    <tr>\n",
              "      <th>0</th>\n",
              "      <td>América do Norte</td>\n",
              "      <td>US$       991,754,280.34</td>\n",
              "    </tr>\n",
              "    <tr>\n",
              "      <th>1</th>\n",
              "      <td>Mercado Comum do Sul - Mercosul</td>\n",
              "      <td>US$       446,794,957.69</td>\n",
              "    </tr>\n",
              "    <tr>\n",
              "      <th>2</th>\n",
              "      <td>Ásia (Exclusive Oriente Médio)</td>\n",
              "      <td>US$       265,787,437.91</td>\n",
              "    </tr>\n",
              "  </tbody>\n",
              "</table>\n",
              "</div>"
            ],
            "text/plain": [
              "                   Bloco Econômico          Valor FOB (US$)\n",
              "0                 América do Norte US$       991,754,280.34\n",
              "1  Mercado Comum do Sul - Mercosul US$       446,794,957.69\n",
              "2   Ásia (Exclusive Oriente Médio) US$       265,787,437.91"
            ]
          },
          "metadata": {},
          "execution_count": 10
        }
      ]
    },
    {
      "cell_type": "markdown",
      "metadata": {
        "id": "0pHh0Sh-qb-2"
      },
      "source": [
        "**Para quais paises o Brasil mais exportou no periodo?**"
      ]
    },
    {
      "cell_type": "code",
      "metadata": {
        "id": "C5p6pUWYMZGN",
        "colab": {
          "base_uri": "https://localhost:8080/",
          "height": 311
        },
        "outputId": "db9710a5-868c-4f4b-f5dc-9c6b2d940031"
      },
      "source": [
        "#VER A RECEITA POR PAÍS\n",
        "#Rankear os 10 maiores clientes no periodo\n",
        "Ranking = df.groupby(\"País\")[\"Valor FOB (US$)\"].sum().sort_values(ascending=False)\n",
        "Ranking.head(10).sort_values(ascending=True).plot.barh(title=\"Ranking Das Exportações Por País\")\n",
        "plt.xlabel(\"Valor FOB (US$)\")\n",
        "plt.ylabel(\"País\")\n",
        "\n"
      ],
      "execution_count": 11,
      "outputs": [
        {
          "output_type": "execute_result",
          "data": {
            "text/plain": [
              "Text(0, 0.5, 'País')"
            ]
          },
          "metadata": {},
          "execution_count": 11
        },
        {
          "output_type": "display_data",
          "data": {
            "image/png": "[encoded data removed]",
            "text/plain": [
              "<Figure size 432x288 with 1 Axes>"
            ]
          },
          "metadata": {
            "needs_background": "light"
          }
        }
      ]
    },
    {
      "cell_type": "code",
      "metadata": {
        "id": "4fomfzk2NVEO",
        "colab": {
          "base_uri": "https://localhost:8080/",
          "height": 311
        },
        "outputId": "5c856a8f-e68f-443e-caac-f0b56cd4e85a"
      },
      "source": [
        "#Qual é a média das exportações por país?\n",
        "mep = df.groupby(\"País\")[\"Valor FOB (US$)\"].mean().sort_values(ascending=False).reset_index()\n",
        "mep_reset = mep.head(10)\n",
        "mep_graf = mep_reset.groupby(\"País\")[\"Valor FOB (US$)\"].mean().sort_values(ascending=True).plot.barh(title=\"Média Das Importações Por País\")\n",
        "plt.ylabel(\"País\")\n",
        "plt.xlabel(\"Valor FOB (US$)\")\n"
      ],
      "execution_count": 12,
      "outputs": [
        {
          "output_type": "execute_result",
          "data": {
            "text/plain": [
              "Text(0.5, 0, 'Valor FOB (US$)')"
            ]
          },
          "metadata": {},
          "execution_count": 12
        },
        {
          "output_type": "display_data",
          "data": {
            "image/png": "[encoded data removed]",
            "text/plain": [
              "<Figure size 432x288 with 1 Axes>"
            ]
          },
          "metadata": {
            "needs_background": "light"
          }
        }
      ]
    },
    {
      "cell_type": "markdown",
      "metadata": {
        "id": "jgyrbiabnc9s"
      },
      "source": [
        "**Outras analises**"
      ]
    },
    {
      "cell_type": "code",
      "metadata": {
        "id": "aA2gOEzKnjSq",
        "outputId": "915f14d4-ba44-49af-859c-9604dd58cc6e",
        "colab": {
          "base_uri": "https://localhost:8080/"
        }
      },
      "source": [
        "oa = df[\"Valor FOB (US$)\"].describe()\n",
        "oa.tail(6)"
      ],
      "execution_count": 40,
      "outputs": [
        {
          "output_type": "execute_result",
          "data": {
            "text/plain": [
              "std   US$       426,126,898.06\n",
              "min   US$                 0.00\n",
              "25%   US$           612,577.00\n",
              "50%   US$         5,394,629.50\n",
              "75%   US$        62,163,057.25\n",
              "max   US$    10,614,697,915.00\n",
              "Name: Valor FOB (US$), dtype: float64"
            ]
          },
          "metadata": {},
          "execution_count": 40
        }
      ]
    }
  ]
}