{
  "nbformat": 4,
  "nbformat_minor": 0,
  "metadata": {
    "colab": {
      "name": "Analise de dados de exportações.ipynb",
      "provenance": [],
      "mount_file_id": "https://github.com/Willrodagu/Proj_analise_de_dados/blob/main/Analise_de_dados_de_exporta%C3%A7%C3%B5es.ipynb",
      "authorship_tag": "ABX9TyOxHgS+zHNzkLnt48pKt9WI",
      "include_colab_link": true
    },
    "kernelspec": {
      "name": "python3",
      "display_name": "Python 3"
    },
    "language_info": {
      "name": "python"
    }
  },
  "cells": [
    {
      "cell_type": "markdown",
      "metadata": {
        "id": "view-in-github",
        "colab_type": "text"
      },
      "source": [
        "<a href=\"https://colab.research.google.com/github/Willrodagu/Proj_analise_de_dados/blob/main/Analise_de_dados_de_exporta%C3%A7%C3%B5es.ipynb\" target=\"_parent\"><img src=\"https://colab.research.google.com/assets/colab-badge.svg\" alt=\"Open In Colab\"/></a>"
      ]
    },
    {
      "cell_type": "markdown",
      "metadata": {
        "id": "LLmRDmCksMaY"
      },
      "source": [
        "# **Projeto de analise de dados com Python e Pandas**\n",
        "\n",
        "O projeto tem por objetivo apresentar uma analise das exportações brasileiras com base em dados de 2018 até o momento.\n",
        "\n",
        "Fonte dos dados: http://comexstat.mdic.gov.br/pt/municipio"
      ]
    },
    {
      "cell_type": "code",
      "metadata": {
        "id": "-UNNhcnQY56z"
      },
      "source": [
        "import pandas as pd"
      ],
      "execution_count": 1,
      "outputs": []
    },
    {
      "cell_type": "code",
      "metadata": {
        "colab": {
          "base_uri": "https://localhost:8080/",
          "height": 204
        },
        "id": "SZcGec02o1DX",
        "outputId": "de5d0b75-d710-4ad5-ccff-011fda0388df"
      },
      "source": [
        "#IMPORTANDO A BASE DE DADOS\n",
        "df = pd.read_csv(\"/content/drive/MyDrive/Datasets/Exportação.csv\", sep=\";\")\n",
        "#VISUALIZANDO A BASE DE DADOS\n",
        "df.head()"
      ],
      "execution_count": 2,
      "outputs": [
        {
          "output_type": "execute_result",
          "data": {
            "text/html": [
              "<div>\n",
              "<style scoped>\n",
              "    .dataframe tbody tr th:only-of-type {\n",
              "        vertical-align: middle;\n",
              "    }\n",
              "\n",
              "    .dataframe tbody tr th {\n",
              "        vertical-align: top;\n",
              "    }\n",
              "\n",
              "    .dataframe thead th {\n",
              "        text-align: right;\n",
              "    }\n",
              "</style>\n",
              "<table border=\"1\" class=\"dataframe\">\n",
              "  <thead>\n",
              "    <tr style=\"text-align: right;\">\n",
              "      <th></th>\n",
              "      <th>Ano</th>\n",
              "      <th>Mês</th>\n",
              "      <th>País</th>\n",
              "      <th>Bloco Econômico</th>\n",
              "      <th>Valor FOB (US$)</th>\n",
              "      <th>Quilograma Líquido</th>\n",
              "    </tr>\n",
              "  </thead>\n",
              "  <tbody>\n",
              "    <tr>\n",
              "      <th>0</th>\n",
              "      <td>2021</td>\n",
              "      <td>9</td>\n",
              "      <td>Afeganistão</td>\n",
              "      <td>Ásia (Exclusive Oriente Médio)</td>\n",
              "      <td>561532</td>\n",
              "      <td>210089</td>\n",
              "    </tr>\n",
              "    <tr>\n",
              "      <th>1</th>\n",
              "      <td>2021</td>\n",
              "      <td>9</td>\n",
              "      <td>África do Sul</td>\n",
              "      <td>África</td>\n",
              "      <td>109393141</td>\n",
              "      <td>88626256</td>\n",
              "    </tr>\n",
              "    <tr>\n",
              "      <th>2</th>\n",
              "      <td>2021</td>\n",
              "      <td>9</td>\n",
              "      <td>Albânia</td>\n",
              "      <td>Europa</td>\n",
              "      <td>5287597</td>\n",
              "      <td>2893673</td>\n",
              "    </tr>\n",
              "    <tr>\n",
              "      <th>3</th>\n",
              "      <td>2021</td>\n",
              "      <td>9</td>\n",
              "      <td>Alemanha</td>\n",
              "      <td>Europa</td>\n",
              "      <td>378245314</td>\n",
              "      <td>476217494</td>\n",
              "    </tr>\n",
              "    <tr>\n",
              "      <th>4</th>\n",
              "      <td>2021</td>\n",
              "      <td>9</td>\n",
              "      <td>Alemanha</td>\n",
              "      <td>União Europeia - UE</td>\n",
              "      <td>378245314</td>\n",
              "      <td>476217494</td>\n",
              "    </tr>\n",
              "  </tbody>\n",
              "</table>\n",
              "</div>"
            ],
            "text/plain": [
              "    Ano  Mês  ... Valor FOB (US$) Quilograma Líquido\n",
              "0  2021    9  ...          561532             210089\n",
              "1  2021    9  ...       109393141           88626256\n",
              "2  2021    9  ...         5287597            2893673\n",
              "3  2021    9  ...       378245314          476217494\n",
              "4  2021    9  ...       378245314          476217494\n",
              "\n",
              "[5 rows x 6 columns]"
            ]
          },
          "metadata": {},
          "execution_count": 2
        }
      ]
    },
    {
      "cell_type": "code",
      "metadata": {
        "id": "AhAeFqWn1I2T",
        "colab": {
          "base_uri": "https://localhost:8080/"
        },
        "outputId": "26b63cf9-da26-4956-d5c7-a36e44c65ad8"
      },
      "source": [
        "#VERIFICANDO QUANTAS LINHAS E COLUNAS TEM A BASE DE DADOS\n",
        "df.shape"
      ],
      "execution_count": 3,
      "outputs": [
        {
          "output_type": "execute_result",
          "data": {
            "text/plain": [
              "(11602, 6)"
            ]
          },
          "metadata": {},
          "execution_count": 3
        }
      ]
    },
    {
      "cell_type": "code",
      "metadata": {
        "id": "gaeAYIru16iK",
        "colab": {
          "base_uri": "https://localhost:8080/"
        },
        "outputId": "e2e6590d-6164-44d9-b2f9-c1e9dbe21057"
      },
      "source": [
        "#VERIFICANDO SE OS VALORES ESTÃO RECOLNHECIDO DA MANEIRA CORRETA\n",
        "df.dtypes"
      ],
      "execution_count": 4,
      "outputs": [
        {
          "output_type": "execute_result",
          "data": {
            "text/plain": [
              "Ano                    int64\n",
              "Mês                    int64\n",
              "País                  object\n",
              "Bloco Econômico       object\n",
              "Valor FOB (US$)        int64\n",
              "Quilograma Líquido     int64\n",
              "dtype: object"
            ]
          },
          "metadata": {},
          "execution_count": 4
        }
      ]
    },
    {
      "cell_type": "code",
      "metadata": {
        "colab": {
          "base_uri": "https://localhost:8080/"
        },
        "id": "75b-T6vK7QDK",
        "outputId": "03e606ab-31fa-48b1-e48e-6e94f28d6825"
      },
      "source": [
        "#VERIFICANDO A EXISTENCIA DE VALORES \"NULL\" NAS COLUNAS\n",
        "df.isnull().sum()"
      ],
      "execution_count": 5,
      "outputs": [
        {
          "output_type": "execute_result",
          "data": {
            "text/plain": [
              "Ano                   0\n",
              "Mês                   0\n",
              "País                  0\n",
              "Bloco Econômico       0\n",
              "Valor FOB (US$)       0\n",
              "Quilograma Líquido    0\n",
              "dtype: int64"
            ]
          },
          "metadata": {},
          "execution_count": 5
        }
      ]
    },
    {
      "cell_type": "markdown",
      "metadata": {
        "id": "heWTqkJppipG"
      },
      "source": [
        "**Qual é o volume exportação por ano?**\n",
        "\n",
        "\n",
        "\n",
        "\n",
        "\n",
        "\n"
      ]
    },
    {
      "cell_type": "code",
      "metadata": {
        "id": "31RE2wc-2md0",
        "colab": {
          "base_uri": "https://localhost:8080/"
        },
        "outputId": "ec639f25-2188-482e-dc8f-ec341defbeaf"
      },
      "source": [
        "#CALCULANDO A RECEITA TOTAL\n",
        "round(df[\"Valor FOB (US$)\"].sum(), 2)"
      ],
      "execution_count": 6,
      "outputs": [
        {
          "output_type": "execute_result",
          "data": {
            "text/plain": [
              "1131370420447"
            ]
          },
          "metadata": {},
          "execution_count": 6
        }
      ]
    },
    {
      "cell_type": "code",
      "metadata": {
        "id": "3aMrsX9JKbGa",
        "colab": {
          "base_uri": "https://localhost:8080/"
        },
        "outputId": "83d4128c-c205-4745-86ef-e5b0f6e24971"
      },
      "source": [
        "#VER A RECEITA POR ANO\n",
        "df.groupby(\"Ano\")[\"Valor FOB (US$)\"].sum().sort_values(ascending=False)"
      ],
      "execution_count": 26,
      "outputs": [
        {
          "output_type": "execute_result",
          "data": {
            "text/plain": [
              "Ano\n",
              "2018    302851588437\n",
              "2019    285237181844\n",
              "2021    274308192765\n",
              "2020    268973457401\n",
              "Name: Valor FOB (US$), dtype: int64"
            ]
          },
          "metadata": {},
          "execution_count": 26
        }
      ]
    },
    {
      "cell_type": "code",
      "metadata": {
        "colab": {
          "base_uri": "https://localhost:8080/",
          "height": 521
        },
        "id": "2vckAneAxorX",
        "outputId": "d1a18e3b-4207-43f4-bd95-64eb7e5c57f3"
      },
      "source": [
        "#VER A RECEITA ANUAL POR BLOCO ECONÔMICO\n",
        "\n",
        "df.groupby([df[\"Ano\"], \"Bloco Econômico\"])[\"Valor FOB (US$)\"].sum()\n",
        "df_2018 = df[df[\"Ano\"] == 2018]\n",
        "display(df_2018)\n",
        "df[\"Bloco Econômico\"].unique()\n",
        "\n"
      ],
      "execution_count": 40,
      "outputs": [
        {
          "output_type": "display_data",
          "data": {
            "text/html": [
              "<div>\n",
              "<style scoped>\n",
              "    .dataframe tbody tr th:only-of-type {\n",
              "        vertical-align: middle;\n",
              "    }\n",
              "\n",
              "    .dataframe tbody tr th {\n",
              "        vertical-align: top;\n",
              "    }\n",
              "\n",
              "    .dataframe thead th {\n",
              "        text-align: right;\n",
              "    }\n",
              "</style>\n",
              "<table border=\"1\" class=\"dataframe\">\n",
              "  <thead>\n",
              "    <tr style=\"text-align: right;\">\n",
              "      <th></th>\n",
              "      <th>Ano</th>\n",
              "      <th>Mês</th>\n",
              "      <th>País</th>\n",
              "      <th>Bloco Econômico</th>\n",
              "      <th>Valor FOB (US$)</th>\n",
              "      <th>Quilograma Líquido</th>\n",
              "    </tr>\n",
              "  </thead>\n",
              "  <tbody>\n",
              "    <tr>\n",
              "      <th>8523</th>\n",
              "      <td>2018</td>\n",
              "      <td>12</td>\n",
              "      <td>Afeganistão</td>\n",
              "      <td>Ásia (Exclusive Oriente Médio)</td>\n",
              "      <td>2033778</td>\n",
              "      <td>1036043</td>\n",
              "    </tr>\n",
              "    <tr>\n",
              "      <th>8524</th>\n",
              "      <td>2018</td>\n",
              "      <td>12</td>\n",
              "      <td>África do Sul</td>\n",
              "      <td>África</td>\n",
              "      <td>77323045</td>\n",
              "      <td>50255804</td>\n",
              "    </tr>\n",
              "    <tr>\n",
              "      <th>8525</th>\n",
              "      <td>2018</td>\n",
              "      <td>12</td>\n",
              "      <td>Albânia</td>\n",
              "      <td>Europa</td>\n",
              "      <td>4184302</td>\n",
              "      <td>2635087</td>\n",
              "    </tr>\n",
              "    <tr>\n",
              "      <th>8526</th>\n",
              "      <td>2018</td>\n",
              "      <td>12</td>\n",
              "      <td>Alemanha</td>\n",
              "      <td>Europa</td>\n",
              "      <td>478925273</td>\n",
              "      <td>546894234</td>\n",
              "    </tr>\n",
              "    <tr>\n",
              "      <th>8527</th>\n",
              "      <td>2018</td>\n",
              "      <td>12</td>\n",
              "      <td>Alemanha</td>\n",
              "      <td>União Europeia - UE</td>\n",
              "      <td>478925273</td>\n",
              "      <td>546894234</td>\n",
              "    </tr>\n",
              "    <tr>\n",
              "      <th>...</th>\n",
              "      <td>...</td>\n",
              "      <td>...</td>\n",
              "      <td>...</td>\n",
              "      <td>...</td>\n",
              "      <td>...</td>\n",
              "      <td>...</td>\n",
              "    </tr>\n",
              "    <tr>\n",
              "      <th>11597</th>\n",
              "      <td>2018</td>\n",
              "      <td>1</td>\n",
              "      <td>Vietnã</td>\n",
              "      <td>Associação de Nações do Sudeste Asiático - ASEAN</td>\n",
              "      <td>102012992</td>\n",
              "      <td>294366317</td>\n",
              "    </tr>\n",
              "    <tr>\n",
              "      <th>11598</th>\n",
              "      <td>2018</td>\n",
              "      <td>1</td>\n",
              "      <td>Virgens, Ilhas (Americanas)</td>\n",
              "      <td>América Central e Caribe</td>\n",
              "      <td>5731099</td>\n",
              "      <td>16476839</td>\n",
              "    </tr>\n",
              "    <tr>\n",
              "      <th>11599</th>\n",
              "      <td>2018</td>\n",
              "      <td>1</td>\n",
              "      <td>Virgens, Ilhas (Britânicas)</td>\n",
              "      <td>América Central e Caribe</td>\n",
              "      <td>80401</td>\n",
              "      <td>26612</td>\n",
              "    </tr>\n",
              "    <tr>\n",
              "      <th>11600</th>\n",
              "      <td>2018</td>\n",
              "      <td>1</td>\n",
              "      <td>Zâmbia</td>\n",
              "      <td>África</td>\n",
              "      <td>502336</td>\n",
              "      <td>309410</td>\n",
              "    </tr>\n",
              "    <tr>\n",
              "      <th>11601</th>\n",
              "      <td>2018</td>\n",
              "      <td>1</td>\n",
              "      <td>Zimbábue</td>\n",
              "      <td>África</td>\n",
              "      <td>1019204</td>\n",
              "      <td>69730</td>\n",
              "    </tr>\n",
              "  </tbody>\n",
              "</table>\n",
              "<p>3079 rows × 6 columns</p>\n",
              "</div>"
            ],
            "text/plain": [
              "        Ano  Mês  ... Valor FOB (US$) Quilograma Líquido\n",
              "8523   2018   12  ...         2033778            1036043\n",
              "8524   2018   12  ...        77323045           50255804\n",
              "8525   2018   12  ...         4184302            2635087\n",
              "8526   2018   12  ...       478925273          546894234\n",
              "8527   2018   12  ...       478925273          546894234\n",
              "...     ...  ...  ...             ...                ...\n",
              "11597  2018    1  ...       102012992          294366317\n",
              "11598  2018    1  ...         5731099           16476839\n",
              "11599  2018    1  ...           80401              26612\n",
              "11600  2018    1  ...          502336             309410\n",
              "11601  2018    1  ...         1019204              69730\n",
              "\n",
              "[3079 rows x 6 columns]"
            ]
          },
          "metadata": {}
        },
        {
          "output_type": "execute_result",
          "data": {
            "text/plain": [
              "array(['Ásia (Exclusive Oriente Médio)', 'África', 'Europa',\n",
              "       'União Europeia - UE', 'América Central e Caribe', 'Oriente Médio',\n",
              "       'América do Sul', 'Mercado Comum do Sul - Mercosul', 'Oceania',\n",
              "       'Comunidade Andina das Nações - CAN',\n",
              "       'Associação de Nações do Sudeste Asiático - ASEAN',\n",
              "       'América do Norte'], dtype=object)"
            ]
          },
          "metadata": {},
          "execution_count": 40
        }
      ]
    },
    {
      "cell_type": "code",
      "metadata": {
        "id": "EwYDoZfUMkIK",
        "outputId": "bbd82081-3fe2-4645-81f7-4ef43d353ec4",
        "colab": {
          "base_uri": "https://localhost:8080/",
          "height": 136
        }
      },
      "source": [
        "#SOMA DA RECEITA POR BLOCO NO ANO DE 2018\n",
        "asia_2018 = df_2018.loc[df_2018[\"Bloco Econômico\"] == \"Ásia (Exclusive Oriente Médio)\"].sum()\n",
        "display(asia_2018)"
      ],
      "execution_count": 47,
      "outputs": [
        {
          "output_type": "display_data",
          "data": {
            "text/plain": [
              "Ano                                                              801146\n",
              "Mês                                                                2590\n",
              "País                  AfeganistãoArmêniaAzerbaijãoBangladeshCambojaC...\n",
              "Bloco Econômico       Ásia (Exclusive Oriente Médio)Ásia (Exclusive ...\n",
              "Valor FOB (US$)                                             91930998871\n",
              "Quilograma Líquido                                         446427988107\n",
              "dtype: object"
            ]
          },
          "metadata": {}
        }
      ]
    },
    {
      "cell_type": "code",
      "metadata": {
        "colab": {
          "base_uri": "https://localhost:8080/"
        },
        "id": "2xQIUOZnxx1E",
        "outputId": "2728ec85-9075-4268-a3a7-d736fda9949d"
      },
      "source": [
        "#VER A RECEITA ANUAL POR PAÍS (WORLD)\n",
        "df.groupby([df[\"Ano\"], \"País\"])[\"Valor FOB (US$)\"].sum()"
      ],
      "execution_count": 19,
      "outputs": [
        {
          "output_type": "execute_result",
          "data": {
            "text/plain": [
              "Ano   País         \n",
              "2018  Afeganistão         16994642\n",
              "      Aland, Ilhas           95038\n",
              "      Albânia             58757571\n",
              "      Alemanha         10412769314\n",
              "      Andorra               382357\n",
              "                          ...     \n",
              "2021  Zimbábue             8078110\n",
              "      Zâmbia               3399980\n",
              "      África do Sul      869071158\n",
              "      Áustria            153813230\n",
              "      Índia             3246378235\n",
              "Name: Valor FOB (US$), Length: 956, dtype: int64"
            ]
          },
          "metadata": {},
          "execution_count": 19
        }
      ]
    },
    {
      "cell_type": "markdown",
      "metadata": {
        "id": "dnxTE3nnqrTi"
      },
      "source": [
        "**Quais os blocos econômico com maior relevancia na exportação do produto Brasileiro?**"
      ]
    },
    {
      "cell_type": "code",
      "metadata": {
        "colab": {
          "base_uri": "https://localhost:8080/"
        },
        "id": "32uJFTQ2_dar",
        "outputId": "e4e16836-839a-47ee-e65c-5f2b2f3a7920"
      },
      "source": [
        "#VER O PERCENTUAL DE EXPORTAÇÕES PARA BLOCOS ECONÔMICOS\n",
        "print(df[\"Bloco Econômico\"].value_counts())\n",
        "print(df[\"Bloco Econômico\"].value_counts(normalize=True).map(\"{:.1%}\".format))"
      ],
      "execution_count": 20,
      "outputs": [
        {
          "output_type": "stream",
          "name": "stdout",
          "text": [
            "África                                              2383\n",
            "Europa                                              2142\n",
            "América Central e Caribe                            1623\n",
            "Ásia (Exclusive Oriente Médio)                      1458\n",
            "União Europeia - UE                                 1312\n",
            "Oceania                                              666\n",
            "Oriente Médio                                        630\n",
            "América do Sul                                       507\n",
            "Associação de Nações do Sudeste Asiático - ASEAN     431\n",
            "Comunidade Andina das Nações - CAN                   180\n",
            "América do Norte                                     135\n",
            "Mercado Comum do Sul - Mercosul                      135\n",
            "Name: Bloco Econômico, dtype: int64\n",
            "África                                              20.5%\n",
            "Europa                                              18.5%\n",
            "América Central e Caribe                            14.0%\n",
            "Ásia (Exclusive Oriente Médio)                      12.6%\n",
            "União Europeia - UE                                 11.3%\n",
            "Oceania                                              5.7%\n",
            "Oriente Médio                                        5.4%\n",
            "América do Sul                                       4.4%\n",
            "Associação de Nações do Sudeste Asiático - ASEAN     3.7%\n",
            "Comunidade Andina das Nações - CAN                   1.6%\n",
            "América do Norte                                     1.2%\n",
            "Mercado Comum do Sul - Mercosul                      1.2%\n",
            "Name: Bloco Econômico, dtype: object\n"
          ]
        }
      ]
    },
    {
      "cell_type": "code",
      "metadata": {
        "id": "NOuKSOfpLzl5",
        "colab": {
          "base_uri": "https://localhost:8080/"
        },
        "outputId": "a8ef388a-fea7-4a61-d3cd-991bccf50527"
      },
      "source": [
        "#VER A RECEITA POR BLOCO ECONÔMICO\n",
        "df.groupby(\"Bloco Econômico\")[\"Valor FOB (US$)\"].sum().sort_values(ascending=False)"
      ],
      "execution_count": 24,
      "outputs": [
        {
          "output_type": "execute_result",
          "data": {
            "text/plain": [
              "Bloco Econômico\n",
              "Ásia (Exclusive Oriente Médio)                      387518084472\n",
              "Europa                                              157314849003\n",
              "América do Norte                                    133886827846\n",
              "União Europeia - UE                                 119867669710\n",
              "América do Sul                                      109968510544\n",
              "Mercado Comum do Sul - Mercosul                      60317319288\n",
              "Associação de Nações do Sudeste Asiático - ASEAN     50806007606\n",
              "Oriente Médio                                        38372044655\n",
              "África                                               30108495739\n",
              "Comunidade Andina das Nações - CAN                   26696759491\n",
              "América Central e Caribe                             13528053637\n",
              "Oceania                                               2985798456\n",
              "Name: Valor FOB (US$), dtype: int64"
            ]
          },
          "metadata": {},
          "execution_count": 24
        }
      ]
    },
    {
      "cell_type": "markdown",
      "metadata": {
        "id": "0pHh0Sh-qb-2"
      },
      "source": [
        "**Para quais paises o Brasil mais exportou no periodo?**"
      ]
    },
    {
      "cell_type": "code",
      "metadata": {
        "id": "-SExCO-yFeAQ",
        "colab": {
          "base_uri": "https://localhost:8080/"
        },
        "outputId": "48bdcbc2-61d2-4681-c365-110706fcf9be"
      },
      "source": [
        "#VER O PERCENTUALDE EXPORTAÇÕES PARA PAÍS (TODOS)\n",
        "print(df[\"País\"].value_counts())\n",
        "print(df[\"País\"].value_counts(normalize=True).map(\"{:.1%}\".format))"
      ],
      "execution_count": 21,
      "outputs": [
        {
          "output_type": "stream",
          "name": "stdout",
          "text": [
            "Letônia                     90\n",
            "Áustria                     90\n",
            "Croácia                     90\n",
            "Chipre                      90\n",
            "Países Baixos (Holanda)     90\n",
            "                            ..\n",
            "Saara Ocidental              4\n",
            "Marianas do Norte, Ilhas     3\n",
            "Vaticano                     3\n",
            "Toquelau                     2\n",
            "Cocos (Keeling), Ilhas       2\n",
            "Name: País, Length: 245, dtype: int64\n",
            "Letônia                     0.8%\n",
            "Áustria                     0.8%\n",
            "Croácia                     0.8%\n",
            "Chipre                      0.8%\n",
            "Países Baixos (Holanda)     0.8%\n",
            "                            ... \n",
            "Saara Ocidental             0.0%\n",
            "Marianas do Norte, Ilhas    0.0%\n",
            "Vaticano                    0.0%\n",
            "Toquelau                    0.0%\n",
            "Cocos (Keeling), Ilhas      0.0%\n",
            "Name: País, Length: 245, dtype: object\n"
          ]
        }
      ]
    },
    {
      "cell_type": "code",
      "metadata": {
        "id": "C5p6pUWYMZGN",
        "colab": {
          "base_uri": "https://localhost:8080/"
        },
        "outputId": "ae410529-bf5e-424a-b08a-9656afbafa7e"
      },
      "source": [
        "#VER A RECEITA POR PAÍS\n",
        "df.groupby(\"País\")[\"Valor FOB (US$)\"].sum().sort_values(ascending=False)"
      ],
      "execution_count": 25,
      "outputs": [
        {
          "output_type": "execute_result",
          "data": {
            "text/plain": [
              "País\n",
              "China                      266693395479\n",
              "Estados Unidos             102160793779\n",
              "Argentina                   83872387612\n",
              "Países Baixos (Holanda)     58453740418\n",
              "Alemanha                    35597046194\n",
              "                               ...     \n",
              "Lesoto                            64526\n",
              "Guernsey                          33692\n",
              "Butão                             19413\n",
              "Vaticano                           5597\n",
              "Cocos (Keeling), Ilhas               38\n",
              "Name: Valor FOB (US$), Length: 245, dtype: int64"
            ]
          },
          "metadata": {},
          "execution_count": 25
        }
      ]
    },
    {
      "cell_type": "markdown",
      "metadata": {
        "id": "nW9TPqi5rHJT"
      },
      "source": [
        "**Cliente em potencial: relação bloco economico x pais (principais exportadores)**"
      ]
    }
  ]
}