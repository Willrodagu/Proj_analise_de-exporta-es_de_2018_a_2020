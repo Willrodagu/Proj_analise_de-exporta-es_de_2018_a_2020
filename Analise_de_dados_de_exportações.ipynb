{
  "nbformat": 4,
  "nbformat_minor": 0,
  "metadata": {
    "colab": {
      "name": "Analise de dados de exportações.ipynb",
      "provenance": [],
      "mount_file_id": "https://github.com/Willrodagu/Proj_analise_de_dados/blob/main/Analise_de_dados_de_exporta%C3%A7%C3%B5es.ipynb",
      "authorship_tag": "ABX9TyPts1mP8szhqPQph0NoiNMl",
      "include_colab_link": true
    },
    "kernelspec": {
      "name": "python3",
      "display_name": "Python 3"
    },
    "language_info": {
      "name": "python"
    }
  },
  "cells": [
    {
      "cell_type": "markdown",
      "metadata": {
        "id": "view-in-github",
        "colab_type": "text"
      },
      "source": [
        "<a href=\"https://colab.research.google.com/github/Willrodagu/Proj_analise_de_dados/blob/main/Analise_de_dados_de_exporta%C3%A7%C3%B5es.ipynb\" target=\"_parent\"><img src=\"https://colab.research.google.com/assets/colab-badge.svg\" alt=\"Open In Colab\"/></a>"
      ]
    },
    {
      "cell_type": "markdown",
      "metadata": {
        "id": "LLmRDmCksMaY"
      },
      "source": [
        "# **Projeto de analise de dados com Python e Pandas**\n",
        "\n",
        "O projeto tem por objetivo apresentar uma analise das exportações brasileiras com base em dados de 2018 até o momento.\n",
        "\n",
        "Fonte dos dados: http://comexstat.mdic.gov.br/pt/municipio"
      ]
    },
    {
      "cell_type": "code",
      "metadata": {
        "id": "-UNNhcnQY56z"
      },
      "source": [
        "import pandas as pd"
      ],
      "execution_count": 1,
      "outputs": []
    },
    {
      "cell_type": "code",
      "metadata": {
        "colab": {
          "base_uri": "https://localhost:8080/",
          "height": 204
        },
        "id": "SZcGec02o1DX",
        "outputId": "de5d0b75-d710-4ad5-ccff-011fda0388df"
      },
      "source": [
        "#IMPORTANDO A BASE DE DADOS\n",
        "df = pd.read_csv(\"/content/drive/MyDrive/Datasets/Exportação.csv\", sep=\";\")\n",
        "#VISUALIZANDO A BASE DE DADOS\n",
        "df.head()"
      ],
      "execution_count": 2,
      "outputs": [
        {
          "output_type": "execute_result",
          "data": {
            "text/html": [
              "<div>\n",
              "<style scoped>\n",
              "    .dataframe tbody tr th:only-of-type {\n",
              "        vertical-align: middle;\n",
              "    }\n",
              "\n",
              "    .dataframe tbody tr th {\n",
              "        vertical-align: top;\n",
              "    }\n",
              "\n",
              "    .dataframe thead th {\n",
              "        text-align: right;\n",
              "    }\n",
              "</style>\n",
              "<table border=\"1\" class=\"dataframe\">\n",
              "  <thead>\n",
              "    <tr style=\"text-align: right;\">\n",
              "      <th></th>\n",
              "      <th>Ano</th>\n",
              "      <th>Mês</th>\n",
              "      <th>País</th>\n",
              "      <th>Bloco Econômico</th>\n",
              "      <th>Valor FOB (US$)</th>\n",
              "      <th>Quilograma Líquido</th>\n",
              "    </tr>\n",
              "  </thead>\n",
              "  <tbody>\n",
              "    <tr>\n",
              "      <th>0</th>\n",
              "      <td>2021</td>\n",
              "      <td>9</td>\n",
              "      <td>Afeganistão</td>\n",
              "      <td>Ásia (Exclusive Oriente Médio)</td>\n",
              "      <td>561532</td>\n",
              "      <td>210089</td>\n",
              "    </tr>\n",
              "    <tr>\n",
              "      <th>1</th>\n",
              "      <td>2021</td>\n",
              "      <td>9</td>\n",
              "      <td>África do Sul</td>\n",
              "      <td>África</td>\n",
              "      <td>109393141</td>\n",
              "      <td>88626256</td>\n",
              "    </tr>\n",
              "    <tr>\n",
              "      <th>2</th>\n",
              "      <td>2021</td>\n",
              "      <td>9</td>\n",
              "      <td>Albânia</td>\n",
              "      <td>Europa</td>\n",
              "      <td>5287597</td>\n",
              "      <td>2893673</td>\n",
              "    </tr>\n",
              "    <tr>\n",
              "      <th>3</th>\n",
              "      <td>2021</td>\n",
              "      <td>9</td>\n",
              "      <td>Alemanha</td>\n",
              "      <td>Europa</td>\n",
              "      <td>378245314</td>\n",
              "      <td>476217494</td>\n",
              "    </tr>\n",
              "    <tr>\n",
              "      <th>4</th>\n",
              "      <td>2021</td>\n",
              "      <td>9</td>\n",
              "      <td>Alemanha</td>\n",
              "      <td>União Europeia - UE</td>\n",
              "      <td>378245314</td>\n",
              "      <td>476217494</td>\n",
              "    </tr>\n",
              "  </tbody>\n",
              "</table>\n",
              "</div>"
            ],
            "text/plain": [
              "    Ano  Mês  ... Valor FOB (US$) Quilograma Líquido\n",
              "0  2021    9  ...          561532             210089\n",
              "1  2021    9  ...       109393141           88626256\n",
              "2  2021    9  ...         5287597            2893673\n",
              "3  2021    9  ...       378245314          476217494\n",
              "4  2021    9  ...       378245314          476217494\n",
              "\n",
              "[5 rows x 6 columns]"
            ]
          },
          "metadata": {},
          "execution_count": 2
        }
      ]
    },
    {
      "cell_type": "code",
      "metadata": {
        "id": "AhAeFqWn1I2T",
        "colab": {
          "base_uri": "https://localhost:8080/"
        },
        "outputId": "26b63cf9-da26-4956-d5c7-a36e44c65ad8"
      },
      "source": [
        "#VERIFICANDO QUANTAS LINHAS E COLUNAS TEM A BASE DE DADOS\n",
        "df.shape"
      ],
      "execution_count": 3,
      "outputs": [
        {
          "output_type": "execute_result",
          "data": {
            "text/plain": [
              "(11602, 6)"
            ]
          },
          "metadata": {},
          "execution_count": 3
        }
      ]
    },
    {
      "cell_type": "code",
      "metadata": {
        "id": "gaeAYIru16iK",
        "colab": {
          "base_uri": "https://localhost:8080/"
        },
        "outputId": "e2e6590d-6164-44d9-b2f9-c1e9dbe21057"
      },
      "source": [
        "#VERIFICANDO SE OS VALORES ESTÃO RECOLNHECIDO DA MANEIRA CORRETA\n",
        "df.dtypes"
      ],
      "execution_count": 4,
      "outputs": [
        {
          "output_type": "execute_result",
          "data": {
            "text/plain": [
              "Ano                    int64\n",
              "Mês                    int64\n",
              "País                  object\n",
              "Bloco Econômico       object\n",
              "Valor FOB (US$)        int64\n",
              "Quilograma Líquido     int64\n",
              "dtype: object"
            ]
          },
          "metadata": {},
          "execution_count": 4
        }
      ]
    },
    {
      "cell_type": "code",
      "metadata": {
        "colab": {
          "base_uri": "https://localhost:8080/"
        },
        "id": "75b-T6vK7QDK",
        "outputId": "03e606ab-31fa-48b1-e48e-6e94f28d6825"
      },
      "source": [
        "#VERIFICANDO A EXISTENCIA DE VALORES \"NULL\" NAS COLUNAS\n",
        "df.isnull().sum()"
      ],
      "execution_count": 5,
      "outputs": [
        {
          "output_type": "execute_result",
          "data": {
            "text/plain": [
              "Ano                   0\n",
              "Mês                   0\n",
              "País                  0\n",
              "Bloco Econômico       0\n",
              "Valor FOB (US$)       0\n",
              "Quilograma Líquido    0\n",
              "dtype: int64"
            ]
          },
          "metadata": {},
          "execution_count": 5
        }
      ]
    },
    {
      "cell_type": "markdown",
      "metadata": {
        "id": "heWTqkJppipG"
      },
      "source": [
        "**Qual é o volume exportação por ano?**\n",
        "\n",
        "\n",
        "\n",
        "\n",
        "\n",
        "\n"
      ]
    },
    {
      "cell_type": "code",
      "metadata": {
        "id": "31RE2wc-2md0",
        "colab": {
          "base_uri": "https://localhost:8080/"
        },
        "outputId": "ec639f25-2188-482e-dc8f-ec341defbeaf"
      },
      "source": [
        "#CALCULANDO A RECEITA TOTAL\n",
        "round(df[\"Valor FOB (US$)\"].sum(), 2)"
      ],
      "execution_count": 6,
      "outputs": [
        {
          "output_type": "execute_result",
          "data": {
            "text/plain": [
              "1131370420447"
            ]
          },
          "metadata": {},
          "execution_count": 6
        }
      ]
    },
    {
      "cell_type": "code",
      "metadata": {
        "id": "3aMrsX9JKbGa",
        "colab": {
          "base_uri": "https://localhost:8080/"
        },
        "outputId": "f796b638-d868-4ee4-e78b-8fc1eac2a257"
      },
      "source": [
        "#VER A RECEITA POR ANO\n",
        "df.groupby(\"Ano\")[\"Valor FOB (US$)\"].sum()"
      ],
      "execution_count": 9,
      "outputs": [
        {
          "output_type": "execute_result",
          "data": {
            "text/plain": [
              "Ano\n",
              "2018    302851588437\n",
              "2019    285237181844\n",
              "2020    268973457401\n",
              "2021    274308192765\n",
              "Name: Valor FOB (US$), dtype: int64"
            ]
          },
          "metadata": {},
          "execution_count": 9
        }
      ]
    },
    {
      "cell_type": "code",
      "metadata": {
        "colab": {
          "base_uri": "https://localhost:8080/"
        },
        "id": "2vckAneAxorX",
        "outputId": "b469addb-4c32-4b39-f60a-01ccbc08c6f6"
      },
      "source": [
        "#VER A RECEITA ANUAL POR BLOCO ECONÔMICO\n",
        "df.groupby([df[\"Ano\"], \"Bloco Econômico\"])[\"Valor FOB (US$)\"].sum()"
      ],
      "execution_count": 17,
      "outputs": [
        {
          "output_type": "execute_result",
          "data": {
            "text/plain": [
              "Ano   Bloco Econômico                                 \n",
              "2018  América Central e Caribe                              4365710488\n",
              "      América do Norte                                     36555097472\n",
              "      América do Sul                                       35166763547\n",
              "      Associação de Nações do Sudeste Asiático - ASEAN     10361338668\n",
              "      Comunidade Andina das Nações - CAN                    7314745549\n",
              "      Europa                                               43468837033\n",
              "      Mercado Comum do Sul - Mercosul                      20832568232\n",
              "      Oceania                                                693636992\n",
              "      Oriente Médio                                         9768935566\n",
              "      União Europeia - UE                                  34292140483\n",
              "      África                                                8100815536\n",
              "      Ásia (Exclusive Oriente Médio)                       91930998871\n",
              "2019  América Central e Caribe                              3282182622\n",
              "      América do Norte                                     37995975778\n",
              "      América do Sul                                       27951861987\n",
              "      Associação de Nações do Sudeste Asiático - ASEAN     11847879321\n",
              "      Comunidade Andina das Nações - CAN                    7560232751\n",
              "      Europa                                               39532923460\n",
              "      Mercado Comum do Sul - Mercosul                      14749159887\n",
              "      Oceania                                                770044609\n",
              "      Oriente Médio                                        10812375874\n",
              "      União Europeia - UE                                  29967690588\n",
              "      África                                                7535527939\n",
              "      Ásia (Exclusive Oriente Médio)                       93231327028\n",
              "2020  América Central e Caribe                              2937067314\n",
              "      América do Norte                                     29530362393\n",
              "      América do Sul                                       22658977282\n",
              "      Associação de Nações do Sudeste Asiático - ASEAN     14183222665\n",
              "      Comunidade Andina das Nações - CAN                    5575242419\n",
              "      Europa                                               37317176007\n",
              "      Mercado Comum do Sul - Mercosul                      12402971268\n",
              "      Oceania                                                812223055\n",
              "      Oriente Médio                                         8796662897\n",
              "      União Europeia - UE                                  27641550057\n",
              "      África                                                7864713330\n",
              "      Ásia (Exclusive Oriente Médio)                       99253288714\n",
              "2021  América Central e Caribe                              2943093213\n",
              "      América do Norte                                     29805392203\n",
              "      América do Sul                                       24190907728\n",
              "      Associação de Nações do Sudeste Asiático - ASEAN     14413566952\n",
              "      Comunidade Andina das Nações - CAN                    6246538772\n",
              "      Europa                                               36995912503\n",
              "      Mercado Comum do Sul - Mercosul                      12332619901\n",
              "      Oceania                                                709893800\n",
              "      Oriente Médio                                         8994070318\n",
              "      União Europeia - UE                                  27966288582\n",
              "      África                                                6607438934\n",
              "      Ásia (Exclusive Oriente Médio)                      103102469859\n",
              "Name: Valor FOB (US$), dtype: int64"
            ]
          },
          "metadata": {},
          "execution_count": 17
        }
      ]
    },
    {
      "cell_type": "code",
      "metadata": {
        "colab": {
          "base_uri": "https://localhost:8080/"
        },
        "id": "2xQIUOZnxx1E",
        "outputId": "2728ec85-9075-4268-a3a7-d736fda9949d"
      },
      "source": [
        "#VER A RECEITA ANUAL POR PAÍS (WORLD)\n",
        "df.groupby([df[\"Ano\"], \"País\"])[\"Valor FOB (US$)\"].sum()"
      ],
      "execution_count": 19,
      "outputs": [
        {
          "output_type": "execute_result",
          "data": {
            "text/plain": [
              "Ano   País         \n",
              "2018  Afeganistão         16994642\n",
              "      Aland, Ilhas           95038\n",
              "      Albânia             58757571\n",
              "      Alemanha         10412769314\n",
              "      Andorra               382357\n",
              "                          ...     \n",
              "2021  Zimbábue             8078110\n",
              "      Zâmbia               3399980\n",
              "      África do Sul      869071158\n",
              "      Áustria            153813230\n",
              "      Índia             3246378235\n",
              "Name: Valor FOB (US$), Length: 956, dtype: int64"
            ]
          },
          "metadata": {},
          "execution_count": 19
        }
      ]
    },
    {
      "cell_type": "markdown",
      "metadata": {
        "id": "dnxTE3nnqrTi"
      },
      "source": [
        "**Quais os bocos econômico com maior relevancia na exportação do produto Brasileiro?**"
      ]
    },
    {
      "cell_type": "code",
      "metadata": {
        "colab": {
          "base_uri": "https://localhost:8080/"
        },
        "id": "32uJFTQ2_dar",
        "outputId": "e4e16836-839a-47ee-e65c-5f2b2f3a7920"
      },
      "source": [
        "#VER O PERCENTUAL DE EXPORTAÇÕES PARA BLOCOS ECONÔMICOS\n",
        "print(df[\"Bloco Econômico\"].value_counts())\n",
        "print(df[\"Bloco Econômico\"].value_counts(normalize=True).map(\"{:.1%}\".format))"
      ],
      "execution_count": 20,
      "outputs": [
        {
          "output_type": "stream",
          "name": "stdout",
          "text": [
            "África                                              2383\n",
            "Europa                                              2142\n",
            "América Central e Caribe                            1623\n",
            "Ásia (Exclusive Oriente Médio)                      1458\n",
            "União Europeia - UE                                 1312\n",
            "Oceania                                              666\n",
            "Oriente Médio                                        630\n",
            "América do Sul                                       507\n",
            "Associação de Nações do Sudeste Asiático - ASEAN     431\n",
            "Comunidade Andina das Nações - CAN                   180\n",
            "América do Norte                                     135\n",
            "Mercado Comum do Sul - Mercosul                      135\n",
            "Name: Bloco Econômico, dtype: int64\n",
            "África                                              20.5%\n",
            "Europa                                              18.5%\n",
            "América Central e Caribe                            14.0%\n",
            "Ásia (Exclusive Oriente Médio)                      12.6%\n",
            "União Europeia - UE                                 11.3%\n",
            "Oceania                                              5.7%\n",
            "Oriente Médio                                        5.4%\n",
            "América do Sul                                       4.4%\n",
            "Associação de Nações do Sudeste Asiático - ASEAN     3.7%\n",
            "Comunidade Andina das Nações - CAN                   1.6%\n",
            "América do Norte                                     1.2%\n",
            "Mercado Comum do Sul - Mercosul                      1.2%\n",
            "Name: Bloco Econômico, dtype: object\n"
          ]
        }
      ]
    },
    {
      "cell_type": "code",
      "metadata": {
        "id": "NOuKSOfpLzl5",
        "colab": {
          "base_uri": "https://localhost:8080/"
        },
        "outputId": "cf8dfe1b-fa19-4b5f-c277-f0f11914b533"
      },
      "source": [
        "#VER A RECEITA POR BLOCO ECONÔMICO\n",
        "df.groupby(\"Bloco Econômico\")[\"Valor FOB (US$)\"].sum()"
      ],
      "execution_count": 10,
      "outputs": [
        {
          "output_type": "execute_result",
          "data": {
            "text/plain": [
              "Bloco Econômico\n",
              "América Central e Caribe                             13528053637\n",
              "América do Norte                                    133886827846\n",
              "América do Sul                                      109968510544\n",
              "Associação de Nações do Sudeste Asiático - ASEAN     50806007606\n",
              "Comunidade Andina das Nações - CAN                   26696759491\n",
              "Europa                                              157314849003\n",
              "Mercado Comum do Sul - Mercosul                      60317319288\n",
              "Oceania                                               2985798456\n",
              "Oriente Médio                                        38372044655\n",
              "União Europeia - UE                                 119867669710\n",
              "África                                               30108495739\n",
              "Ásia (Exclusive Oriente Médio)                      387518084472\n",
              "Name: Valor FOB (US$), dtype: int64"
            ]
          },
          "metadata": {},
          "execution_count": 10
        }
      ]
    },
    {
      "cell_type": "markdown",
      "metadata": {
        "id": "0pHh0Sh-qb-2"
      },
      "source": [
        "**Para quais paises o Brasil mais exportou no periodo?**"
      ]
    },
    {
      "cell_type": "code",
      "metadata": {
        "id": "-SExCO-yFeAQ",
        "colab": {
          "base_uri": "https://localhost:8080/"
        },
        "outputId": "48bdcbc2-61d2-4681-c365-110706fcf9be"
      },
      "source": [
        "#VER O PERCENTUALDE EXPORTAÇÕES PARA PAÍS (TODOS)\n",
        "print(df[\"País\"].value_counts())\n",
        "print(df[\"País\"].value_counts(normalize=True).map(\"{:.1%}\".format))"
      ],
      "execution_count": 21,
      "outputs": [
        {
          "output_type": "stream",
          "name": "stdout",
          "text": [
            "Letônia                     90\n",
            "Áustria                     90\n",
            "Croácia                     90\n",
            "Chipre                      90\n",
            "Países Baixos (Holanda)     90\n",
            "                            ..\n",
            "Saara Ocidental              4\n",
            "Marianas do Norte, Ilhas     3\n",
            "Vaticano                     3\n",
            "Toquelau                     2\n",
            "Cocos (Keeling), Ilhas       2\n",
            "Name: País, Length: 245, dtype: int64\n",
            "Letônia                     0.8%\n",
            "Áustria                     0.8%\n",
            "Croácia                     0.8%\n",
            "Chipre                      0.8%\n",
            "Países Baixos (Holanda)     0.8%\n",
            "                            ... \n",
            "Saara Ocidental             0.0%\n",
            "Marianas do Norte, Ilhas    0.0%\n",
            "Vaticano                    0.0%\n",
            "Toquelau                    0.0%\n",
            "Cocos (Keeling), Ilhas      0.0%\n",
            "Name: País, Length: 245, dtype: object\n"
          ]
        }
      ]
    },
    {
      "cell_type": "code",
      "metadata": {
        "id": "C5p6pUWYMZGN",
        "colab": {
          "base_uri": "https://localhost:8080/"
        },
        "outputId": "17ae0deb-92f9-4a47-881a-930e37c9504c"
      },
      "source": [
        "#VER A RECEITA POR PAÍS\n",
        "df.groupby(\"País\")[\"Valor FOB (US$)\"].sum()"
      ],
      "execution_count": 11,
      "outputs": [
        {
          "output_type": "execute_result",
          "data": {
            "text/plain": [
              "País\n",
              "Afeganistão        102330711\n",
              "Aland, Ilhas           97906\n",
              "Albânia            210697578\n",
              "Alemanha         35597046194\n",
              "Andorra              2772213\n",
              "                    ...     \n",
              "Zimbábue            23477348\n",
              "Zâmbia              18652975\n",
              "África do Sul     4352721574\n",
              "Áustria           1104384582\n",
              "Índia            12816710365\n",
              "Name: Valor FOB (US$), Length: 245, dtype: int64"
            ]
          },
          "metadata": {},
          "execution_count": 11
        }
      ]
    },
    {
      "cell_type": "markdown",
      "metadata": {
        "id": "nW9TPqi5rHJT"
      },
      "source": [
        "**Cliente em potencial: relação bloco economico x pais (principais exportadores)**"
      ]
    }
  ]
}